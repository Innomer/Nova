{
 "cells": [
  {
   "cell_type": "code",
   "execution_count": null,
   "metadata": {},
   "outputs": [],
   "source": [
    "import tensorflow as tf\n",
    "from tensorflow.keras import layers, Model\n",
    "import numpy as np\n",
    "import librosa\n",
    "from data_loading import extract_features\n",
    "import os\n",
    "import pickle\n",
    "import random\n",
    "import seaborn as sns\n",
    "import matplotlib.pyplot as plt\n",
    "from sklearn.metrics import roc_auc_score, precision_score, recall_score, f1_score\n"
   ]
  },
  {
   "cell_type": "code",
   "execution_count": null,
   "metadata": {},
   "outputs": [],
   "source": [
    "# def create_base_network(input_shape):\n",
    "#     \"\"\"Shared feature extractor.\"\"\"\n",
    "#     model = tf.keras.Sequential([\n",
    "#         layers.Conv1D(64, kernel_size=5, activation='relu', input_shape=input_shape),\n",
    "#         layers.MaxPooling1D(pool_size=2),\n",
    "#         layers.Conv1D(128, kernel_size=5, activation='relu'),\n",
    "#         layers.GlobalMaxPooling1D(),\n",
    "#         layers.Dense(128, activation='relu'),\n",
    "#         layers.Dense(64, activation='relu')\n",
    "#     ])\n",
    "#     return model\n",
    "\n",
    "# def create_siamese_network(input_shape):\n",
    "#     base_network = create_base_network(input_shape)\n",
    "    \n",
    "#     # Two inputs for the Siamese network\n",
    "#     input_a = layers.Input(shape=input_shape)\n",
    "#     input_b = layers.Input(shape=input_shape)\n",
    "    \n",
    "#     # Shared embedding layers\n",
    "#     embedding_a = base_network(input_a)\n",
    "#     embedding_b = base_network(input_b)\n",
    "    \n",
    "#     # Distance metric (Euclidean Distance)\n",
    "#     distance = layers.Lambda(lambda tensors: tf.sqrt(tf.reduce_sum(tf.square(tensors[0] - tensors[1]), axis=1, keepdims=True)))([embedding_a, embedding_b])\n",
    "    \n",
    "#     return Model(inputs=[input_a, input_b], outputs=distance)\n",
    "\n",
    "import tensorflow as tf\n",
    "from tensorflow.keras import layers, Model\n",
    "\n",
    "def create_base_network(input_shape):\n",
    "    \"\"\"Shared feature extractor.\"\"\"\n",
    "    # model = tf.keras.Sequential([\n",
    "    #     layers.Conv1D(64, kernel_size=5, activation=None, input_shape=input_shape),\n",
    "    #     layers.BatchNormalization(),\n",
    "    #     layers.LeakyReLU(alpha=0.1),\n",
    "    #     layers.MaxPooling1D(pool_size=2),\n",
    "\n",
    "    #     layers.Conv1D(128, kernel_size=5, activation=None, kernel_regularizer=tf.keras.regularizers.l2(0.01)),\n",
    "    #     layers.BatchNormalization(),\n",
    "    #     layers.LeakyReLU(alpha=0.1),\n",
    "    #     layers.MaxPooling1D(pool_size=2),\n",
    "\n",
    "    #     layers.Conv1D(256, kernel_size=5, activation=None, kernel_regularizer=tf.keras.regularizers.l2(0.01)),\n",
    "    #     layers.BatchNormalization(),\n",
    "    #     layers.LeakyReLU(alpha=0.1),\n",
    "    #     layers.GlobalMaxPooling1D(),\n",
    "\n",
    "    #     layers.Dense(128, activation=None, kernel_regularizer=tf.keras.regularizers.l2(0.01)),\n",
    "    #     layers.BatchNormalization(),\n",
    "    #     layers.LeakyReLU(alpha=0.1),\n",
    "    #     layers.Dropout(0.5),\n",
    "\n",
    "    #     layers.Dense(64, activation=None, kernel_regularizer=tf.keras.regularizers.l2(0.01)),\n",
    "    #     layers.BatchNormalization(),\n",
    "    #     layers.LeakyReLU(alpha=0.1),\n",
    "    #     layers.Dropout(0.5)\n",
    "    # ])\n",
    "    model=tf.keras.Sequential([\n",
    "        layers.Dense(128, activation='leaky_relu', input_shape=input_shape),\n",
    "        layers.Dropout(0.1),\n",
    "        layers.Dense(128, activation='leaky_relu', kernel_regularizer=tf.keras.regularizers.l2(0.01)),\n",
    "        layers.Dropout(0.1),\n",
    "        layers.Dense(128, activation='leaky_relu', kernel_regularizer=tf.keras.regularizers.l2(0.01)),\n",
    "    ])\n",
    "    return model\n",
    "\n",
    "def create_siamese_network(input_shape):\n",
    "    base_network = create_base_network(input_shape)\n",
    "    \n",
    "    # Two inputs for the Siamese network\n",
    "    input_a = layers.Input(shape=input_shape)\n",
    "    input_b = layers.Input(shape=input_shape)\n",
    "    \n",
    "    # Shared embedding layers\n",
    "    embedding_a = base_network(input_a)\n",
    "    embedding_b = base_network(input_b)\n",
    "\n",
    "    # L2 normalization of embeddings\n",
    "    embedding_a = layers.Lambda(lambda x: tf.math.l2_normalize(x, axis=1))(embedding_a)\n",
    "    embedding_b = layers.Lambda(lambda x: tf.math.l2_normalize(x, axis=1))(embedding_b)\n",
    "\n",
    "    # Distance metric (Euclidean Distance)\n",
    "    # distance = layers.Lambda(lambda tensors: tf.sqrt(tf.reduce_sum(tf.square(tensors[0] - tensors[1]), axis=1, keepdims=True)))([embedding_a, embedding_b])\n",
    "    distance = layers.Lambda(lambda tensors: tf.sqrt(tf.reduce_sum(tf.square(tensors[0] - tensors[1]), axis=1, keepdims=True) + 1e-8))([embedding_a, embedding_b])\n",
    "\n",
    "    \n",
    "    return Model(inputs=[input_a, input_b], outputs=distance)\n",
    "\n",
    "# def contrastive_loss(y_true, y_pred, margin=1):\n",
    "#     \"\"\"Contrastive loss as a custom loss function.\"\"\"\n",
    "#     y_true = tf.cast(y_true, tf.float32)\n",
    "#     squared_distance = tf.square(y_pred)\n",
    "#     margin_distance = tf.square(tf.maximum(margin - y_pred, 0))\n",
    "#     return tf.reduce_mean((1 - y_true) * squared_distance + y_true * margin_distance)\n",
    "def contrastive_loss(y_true, y_pred, margin=1.0):\n",
    "    \"\"\"Contrastive loss as a custom loss function.\"\"\"\n",
    "    y_true = tf.cast(tf.reshape(y_true, (-1, 1)), tf.float32)  # Reshape to [batch_size, 1]\n",
    "    squared_distance = tf.square(y_pred)\n",
    "    margin_distance = tf.square(tf.maximum(margin - y_pred, 0))\n",
    "    return tf.reduce_mean((1 - y_true) * squared_distance + y_true * margin_distance)\n",
    "\n",
    "\n",
    "# 5. Data Preparation\n",
    "def create_pairs(features, labels):\n",
    "    \"\"\"Generate pairs: (input_1, input_2, label).\"\"\"\n",
    "    pairs = []\n",
    "    pair_labels = []\n",
    "    for i in range(len(features)):\n",
    "        for j in range(i + 1, len(features)):\n",
    "            # Create a positive pair (same speaker)\n",
    "            if labels[i] == labels[j]:\n",
    "                pairs.append((features[i], features[j]))\n",
    "                pair_labels.append(0)  # Similar\n",
    "            # Create a negative pair (different speakers)\n",
    "            else:\n",
    "                pairs.append((features[i], features[j]))\n",
    "                pair_labels.append(1)  # Dissimilar\n",
    "    # Shuffle the pairs and labels\n",
    "    pairs, pair_labels = np.array(pairs), np.array(pair_labels)\n",
    "    indices = np.random.permutation(len(pairs))\n",
    "    pairs, pair_labels = pairs[indices], pair_labels[indices]\n",
    "    return np.array(pairs), np.array(pair_labels)\n",
    "\n",
    "# 6. Training\n",
    "def train_siamese_network():\n",
    "    # Load features and labels (replace with actual dataset)\n",
    "    # features = np.random.rand(50, 100, 13)  # Mock data (1000 samples, 100 time steps, 13 features)\n",
    "    # labels = np.random.randint(0, 10, size=50)  # Mock speaker IDs (10 speakers)\n",
    "    siamese_net = create_siamese_network((250,14))\n",
    "    print(\"Model Created\")\n",
    "    # print(siamese_net.summary())\n",
    "    optimizer = tf.keras.optimizers.Adam(clipnorm=1.0)\n",
    "\n",
    "    siamese_net.compile(optimizer=optimizer, loss=contrastive_loss, metrics=['accuracy'])\n",
    "    \n",
    "    for file in os.listdir(\"dataset\"):\n",
    "        if file.startswith(\"features_\"):\n",
    "            with open(f\"dataset/{file}\", \"rb\") as f:\n",
    "                features = pickle.load(f)\n",
    "            part_number=file.split(\".\")[0].split(\"_\")[-1]\n",
    "            with open(f\"dataset/labels_part_{part_number}.pkl\", \"rb\") as f:\n",
    "                labels=pickle.load(f)\n",
    "            print(\"Features Loaded\")\n",
    "            # Break Features and Labels into 10 parts\n",
    "            features = np.array(features)\n",
    "            labels = np.array(labels)\n",
    "            \n",
    "            # Normalize Features\n",
    "            features = (features - np.mean(features, axis=0)) / (np.std(features, axis=0) + 1e-8)\n",
    "\n",
    "            features = np.array_split(features, 10)\n",
    "            labels = np.array_split(labels, 10)\n",
    "            print(\"Features Split\")\n",
    "            for features_part, labels_part in zip(features, labels):\n",
    "                # Create pairs\n",
    "                pairs, pair_labels = create_pairs(features_part, labels_part)\n",
    "                pairs = np.array(pairs)\n",
    "                print(\"Pairs Created\")\n",
    "                # Split into train and test\n",
    "                split = int(len(pairs) * 0.8)\n",
    "                train_pairs, test_pairs = pairs[:split], pairs[split:]\n",
    "                train_labels, test_labels = pair_labels[:split], pair_labels[split:]\n",
    "                print(\"Train and Test Pairs Created\")              \n",
    "                history=siamese_net.fit(\n",
    "                    [train_pairs[:, 0], train_pairs[:, 1]], train_labels,\n",
    "                    validation_data=([test_pairs[:, 0], test_pairs[:, 1]], test_labels),\n",
    "                    epochs=1,\n",
    "                    batch_size=32,\n",
    "                    verbose=0\n",
    "                )\n",
    "                print(\"Model Trained\")\n",
    "                siamese_net.save(f\"weights/siamese_model_part_{part_number}.h5\")\n",
    "                print(\"Model Saved\")\n",
    "                \n",
    "                # Infer on 10 test pairs\n",
    "                n1=random.randint(0, len(test_pairs)//2)\n",
    "                n2=n1+10\n",
    "                test_pairs = test_pairs[n1:n2]\n",
    "                test_labels = test_labels[n1:n2]\n",
    "                test_distances = siamese_net.predict([test_pairs[:, 0], test_pairs[:, 1]])\n",
    "                test_loss=contrastive_loss(test_labels, test_distances)\n",
    "                # roc_auc = roc_auc_score(test_labels, test_distances)\n",
    "                threshold = 0.1\n",
    "                test_predictions=[]\n",
    "                for t in test_distances:\n",
    "                    test_predictions.append(0 if t.mean()<threshold else 1)\n",
    "                # test_predictions = (test_distances > threshold).astype(int)\n",
    "                # test_predictions = test_distances.ravel() < threshold\n",
    "                \n",
    "                # precision=precision_score(test_labels, test_predictions)\n",
    "                # recall=recall_score(test_labels, test_predictions)\n",
    "                # f1=f1_score(test_labels, test_predictions)\n",
    "                \n",
    "                test_predictions = np.squeeze(test_predictions)  # Remove extra dimensions\n",
    "                \n",
    "                # print(test_distances, test_labels, test_predictions)\n",
    "                print(test_labels, test_predictions)\n",
    "                # print(test_distances.shape, test_labels.shape, test_predictions.shape)\n",
    "                print(f\"Test Loss: {test_loss}\")\n",
    "                print(\"Test Accuracy: \", np.mean(test_predictions == test_labels))\n",
    "                # print(f\"ROC AUC: {roc_auc}\")\n",
    "                # print(f\"Precision: {precision}\")\n",
    "                # print(f\"Recall: {recall}\")\n",
    "                # print(f\"F1 Score: {f1}\")\n",
    "                # print(\"Model Evaluated\")\n",
    "                \n",
    "                \n",
    "    return siamese_net"
   ]
  },
  {
   "cell_type": "code",
   "execution_count": 66,
   "metadata": {},
   "outputs": [
    {
     "name": "stderr",
     "output_type": "stream",
     "text": [
      "WARNING:absl:You are saving your model as an HDF5 file via `model.save()` or `keras.saving.save_model(model)`. This file format is considered legacy. We recommend using instead the native Keras format, e.g. `model.save('my_model.keras')` or `keras.saving.save_model(model, 'my_model.keras')`. \n"
     ]
    },
    {
     "name": "stdout",
     "output_type": "stream",
     "text": [
      "Model Trained\n",
      "Model Saved\n",
      "\u001b[1m1/1\u001b[0m \u001b[32m━━━━━━━━━━━━━━━━━━━━\u001b[0m\u001b[37m\u001b[0m \u001b[1m0s\u001b[0m 44ms/step\n",
      "[1 1 1 0 0 0 0 0 0 0] [0 0 0 0 0 0 0 0 0 0]\n",
      "Test Loss: 0.29887279868125916\n",
      "Test Accuracy:  0.7\n",
      "Pairs Created\n",
      "Train and Test Pairs Created\n"
     ]
    },
    {
     "name": "stderr",
     "output_type": "stream",
     "text": [
      "WARNING:absl:You are saving your model as an HDF5 file via `model.save()` or `keras.saving.save_model(model)`. This file format is considered legacy. We recommend using instead the native Keras format, e.g. `model.save('my_model.keras')` or `keras.saving.save_model(model, 'my_model.keras')`. \n"
     ]
    },
    {
     "name": "stdout",
     "output_type": "stream",
     "text": [
      "Model Trained\n",
      "Model Saved\n",
      "\u001b[1m1/1\u001b[0m \u001b[32m━━━━━━━━━━━━━━━━━━━━\u001b[0m\u001b[37m\u001b[0m \u001b[1m0s\u001b[0m 40ms/step\n",
      "[0 0 0 0 0 0 0 0 0 0] [0 0 0 0 0 0 0 0 0 0]\n",
      "Test Loss: 1.1983578573904197e-08\n",
      "Test Accuracy:  1.0\n",
      "Features Loaded\n",
      "Features Split\n",
      "Pairs Created\n",
      "Train and Test Pairs Created\n"
     ]
    },
    {
     "name": "stderr",
     "output_type": "stream",
     "text": [
      "WARNING:absl:You are saving your model as an HDF5 file via `model.save()` or `keras.saving.save_model(model)`. This file format is considered legacy. We recommend using instead the native Keras format, e.g. `model.save('my_model.keras')` or `keras.saving.save_model(model, 'my_model.keras')`. \n"
     ]
    },
    {
     "name": "stdout",
     "output_type": "stream",
     "text": [
      "Model Trained\n",
      "Model Saved\n",
      "\u001b[1m1/1\u001b[0m \u001b[32m━━━━━━━━━━━━━━━━━━━━\u001b[0m\u001b[37m\u001b[0m \u001b[1m0s\u001b[0m 35ms/step\n",
      "[0 1 1 0 0 0 0 1 0 0] [0 0 0 0 0 0 0 0 0 0]\n",
      "Test Loss: 0.29754820466041565\n",
      "Test Accuracy:  0.7\n",
      "Pairs Created\n",
      "Train and Test Pairs Created\n"
     ]
    },
    {
     "name": "stderr",
     "output_type": "stream",
     "text": [
      "WARNING:absl:You are saving your model as an HDF5 file via `model.save()` or `keras.saving.save_model(model)`. This file format is considered legacy. We recommend using instead the native Keras format, e.g. `model.save('my_model.keras')` or `keras.saving.save_model(model, 'my_model.keras')`. \n"
     ]
    },
    {
     "name": "stdout",
     "output_type": "stream",
     "text": [
      "Model Trained\n",
      "Model Saved\n",
      "\u001b[1m1/1\u001b[0m \u001b[32m━━━━━━━━━━━━━━━━━━━━\u001b[0m\u001b[37m\u001b[0m \u001b[1m0s\u001b[0m 46ms/step\n",
      "[0 0 0 0 1 0 1 0 1 0] [0 0 0 0 0 0 0 0 0 0]\n",
      "Test Loss: 0.2901046872138977\n",
      "Test Accuracy:  0.7\n",
      "Pairs Created\n",
      "Train and Test Pairs Created\n"
     ]
    },
    {
     "name": "stderr",
     "output_type": "stream",
     "text": [
      "WARNING:absl:You are saving your model as an HDF5 file via `model.save()` or `keras.saving.save_model(model)`. This file format is considered legacy. We recommend using instead the native Keras format, e.g. `model.save('my_model.keras')` or `keras.saving.save_model(model, 'my_model.keras')`. \n"
     ]
    },
    {
     "name": "stdout",
     "output_type": "stream",
     "text": [
      "Model Trained\n",
      "Model Saved\n",
      "\u001b[1m1/1\u001b[0m \u001b[32m━━━━━━━━━━━━━━━━━━━━\u001b[0m\u001b[37m\u001b[0m \u001b[1m0s\u001b[0m 49ms/step\n",
      "[0 0 0 0 0 0 1 1 0 1] [0 0 0 0 0 0 0 0 0 0]\n",
      "Test Loss: 0.2937086820602417\n",
      "Test Accuracy:  0.7\n",
      "Pairs Created\n",
      "Train and Test Pairs Created\n"
     ]
    },
    {
     "name": "stderr",
     "output_type": "stream",
     "text": [
      "WARNING:absl:You are saving your model as an HDF5 file via `model.save()` or `keras.saving.save_model(model)`. This file format is considered legacy. We recommend using instead the native Keras format, e.g. `model.save('my_model.keras')` or `keras.saving.save_model(model, 'my_model.keras')`. \n"
     ]
    },
    {
     "name": "stdout",
     "output_type": "stream",
     "text": [
      "Model Trained\n",
      "Model Saved\n",
      "\u001b[1m1/1\u001b[0m \u001b[32m━━━━━━━━━━━━━━━━━━━━\u001b[0m\u001b[37m\u001b[0m \u001b[1m0s\u001b[0m 39ms/step\n",
      "[0 0 0 0 0 0 0 0 0 0] [0 0 0 0 0 0 0 0 0 0]\n",
      "Test Loss: 1.0743773515287103e-07\n",
      "Test Accuracy:  1.0\n",
      "Pairs Created\n",
      "Train and Test Pairs Created\n"
     ]
    },
    {
     "name": "stderr",
     "output_type": "stream",
     "text": [
      "WARNING:absl:You are saving your model as an HDF5 file via `model.save()` or `keras.saving.save_model(model)`. This file format is considered legacy. We recommend using instead the native Keras format, e.g. `model.save('my_model.keras')` or `keras.saving.save_model(model, 'my_model.keras')`. \n"
     ]
    },
    {
     "name": "stdout",
     "output_type": "stream",
     "text": [
      "Model Trained\n",
      "Model Saved\n",
      "\u001b[1m1/1\u001b[0m \u001b[32m━━━━━━━━━━━━━━━━━━━━\u001b[0m\u001b[37m\u001b[0m \u001b[1m0s\u001b[0m 36ms/step\n",
      "[0 0 0 0 0 0 0 0 0 0] [0 0 0 0 0 0 0 0 0 0]\n",
      "Test Loss: 2.351005605305545e-06\n",
      "Test Accuracy:  1.0\n",
      "Pairs Created\n",
      "Train and Test Pairs Created\n"
     ]
    },
    {
     "name": "stderr",
     "output_type": "stream",
     "text": [
      "WARNING:absl:You are saving your model as an HDF5 file via `model.save()` or `keras.saving.save_model(model)`. This file format is considered legacy. We recommend using instead the native Keras format, e.g. `model.save('my_model.keras')` or `keras.saving.save_model(model, 'my_model.keras')`. \n"
     ]
    },
    {
     "name": "stdout",
     "output_type": "stream",
     "text": [
      "Model Trained\n",
      "Model Saved\n",
      "\u001b[1m1/1\u001b[0m \u001b[32m━━━━━━━━━━━━━━━━━━━━\u001b[0m\u001b[37m\u001b[0m \u001b[1m0s\u001b[0m 61ms/step\n",
      "[0 1 1 0 0 1 1 1 1 0] [0 0 0 0 0 0 0 0 0 0]\n",
      "Test Loss: 0.5650272965431213\n",
      "Test Accuracy:  0.4\n",
      "Pairs Created\n",
      "Train and Test Pairs Created\n"
     ]
    },
    {
     "name": "stderr",
     "output_type": "stream",
     "text": [
      "WARNING:absl:You are saving your model as an HDF5 file via `model.save()` or `keras.saving.save_model(model)`. This file format is considered legacy. We recommend using instead the native Keras format, e.g. `model.save('my_model.keras')` or `keras.saving.save_model(model, 'my_model.keras')`. \n"
     ]
    },
    {
     "name": "stdout",
     "output_type": "stream",
     "text": [
      "Model Trained\n",
      "Model Saved\n",
      "\u001b[1m1/1\u001b[0m \u001b[32m━━━━━━━━━━━━━━━━━━━━\u001b[0m\u001b[37m\u001b[0m \u001b[1m0s\u001b[0m 40ms/step\n",
      "[1 0 1 1 0 0 1 1 1 0] [0 0 0 0 0 0 0 0 0 0]\n",
      "Test Loss: 0.5917415022850037\n",
      "Test Accuracy:  0.4\n",
      "Pairs Created\n",
      "Train and Test Pairs Created\n"
     ]
    },
    {
     "name": "stderr",
     "output_type": "stream",
     "text": [
      "WARNING:absl:You are saving your model as an HDF5 file via `model.save()` or `keras.saving.save_model(model)`. This file format is considered legacy. We recommend using instead the native Keras format, e.g. `model.save('my_model.keras')` or `keras.saving.save_model(model, 'my_model.keras')`. \n"
     ]
    },
    {
     "name": "stdout",
     "output_type": "stream",
     "text": [
      "Model Trained\n",
      "Model Saved\n",
      "\u001b[1m1/1\u001b[0m \u001b[32m━━━━━━━━━━━━━━━━━━━━\u001b[0m\u001b[37m\u001b[0m \u001b[1m0s\u001b[0m 40ms/step\n",
      "[0 1 1 0 0 1 0 0 1 1] [0 0 0 0 0 0 0 0 0 0]\n",
      "Test Loss: 0.48113155364990234\n",
      "Test Accuracy:  0.5\n",
      "Pairs Created\n",
      "Train and Test Pairs Created\n"
     ]
    },
    {
     "name": "stderr",
     "output_type": "stream",
     "text": [
      "WARNING:absl:You are saving your model as an HDF5 file via `model.save()` or `keras.saving.save_model(model)`. This file format is considered legacy. We recommend using instead the native Keras format, e.g. `model.save('my_model.keras')` or `keras.saving.save_model(model, 'my_model.keras')`. \n"
     ]
    },
    {
     "name": "stdout",
     "output_type": "stream",
     "text": [
      "Model Trained\n",
      "Model Saved\n",
      "\u001b[1m1/1\u001b[0m \u001b[32m━━━━━━━━━━━━━━━━━━━━\u001b[0m\u001b[37m\u001b[0m \u001b[1m0s\u001b[0m 40ms/step\n",
      "[1 0 0 0 1 0 1 1 0 1] [1 0 0 0 1 0 1 0 0 0]\n",
      "Test Loss: 0.43241310119628906\n",
      "Test Accuracy:  0.8\n",
      "Pairs Created\n",
      "Train and Test Pairs Created\n"
     ]
    },
    {
     "name": "stderr",
     "output_type": "stream",
     "text": [
      "WARNING:absl:You are saving your model as an HDF5 file via `model.save()` or `keras.saving.save_model(model)`. This file format is considered legacy. We recommend using instead the native Keras format, e.g. `model.save('my_model.keras')` or `keras.saving.save_model(model, 'my_model.keras')`. \n"
     ]
    },
    {
     "name": "stdout",
     "output_type": "stream",
     "text": [
      "Model Trained\n",
      "Model Saved\n",
      "\u001b[1m1/1\u001b[0m \u001b[32m━━━━━━━━━━━━━━━━━━━━\u001b[0m\u001b[37m\u001b[0m \u001b[1m0s\u001b[0m 33ms/step\n",
      "[0 0 0 0 0 0 0 0 0 0] [0 0 0 0 0 0 0 0 0 0]\n",
      "Test Loss: 9.70456312643364e-07\n",
      "Test Accuracy:  1.0\n",
      "Features Loaded\n",
      "Features Split\n",
      "Pairs Created\n",
      "Train and Test Pairs Created\n"
     ]
    },
    {
     "name": "stderr",
     "output_type": "stream",
     "text": [
      "WARNING:absl:You are saving your model as an HDF5 file via `model.save()` or `keras.saving.save_model(model)`. This file format is considered legacy. We recommend using instead the native Keras format, e.g. `model.save('my_model.keras')` or `keras.saving.save_model(model, 'my_model.keras')`. \n"
     ]
    },
    {
     "name": "stdout",
     "output_type": "stream",
     "text": [
      "Model Trained\n",
      "Model Saved\n",
      "\u001b[1m1/1\u001b[0m \u001b[32m━━━━━━━━━━━━━━━━━━━━\u001b[0m\u001b[37m\u001b[0m \u001b[1m0s\u001b[0m 36ms/step\n",
      "[0 0 0 0 0 0 0 0 0 0] [0 0 0 0 0 0 0 0 0 0]\n",
      "Test Loss: 1.1301210633973824e-08\n",
      "Test Accuracy:  1.0\n",
      "Pairs Created\n",
      "Train and Test Pairs Created\n"
     ]
    },
    {
     "name": "stderr",
     "output_type": "stream",
     "text": [
      "WARNING:absl:You are saving your model as an HDF5 file via `model.save()` or `keras.saving.save_model(model)`. This file format is considered legacy. We recommend using instead the native Keras format, e.g. `model.save('my_model.keras')` or `keras.saving.save_model(model, 'my_model.keras')`. \n"
     ]
    },
    {
     "name": "stdout",
     "output_type": "stream",
     "text": [
      "Model Trained\n",
      "Model Saved\n",
      "\u001b[1m1/1\u001b[0m \u001b[32m━━━━━━━━━━━━━━━━━━━━\u001b[0m\u001b[37m\u001b[0m \u001b[1m0s\u001b[0m 34ms/step\n",
      "[0 0 0 0 0 0 1 0 0 0] [0 0 0 0 0 0 0 0 0 0]\n",
      "Test Loss: 0.09709327667951584\n",
      "Test Accuracy:  0.9\n",
      "Pairs Created\n",
      "Train and Test Pairs Created\n"
     ]
    },
    {
     "name": "stderr",
     "output_type": "stream",
     "text": [
      "WARNING:absl:You are saving your model as an HDF5 file via `model.save()` or `keras.saving.save_model(model)`. This file format is considered legacy. We recommend using instead the native Keras format, e.g. `model.save('my_model.keras')` or `keras.saving.save_model(model, 'my_model.keras')`. \n"
     ]
    },
    {
     "name": "stdout",
     "output_type": "stream",
     "text": [
      "Model Trained\n",
      "Model Saved\n",
      "\u001b[1m1/1\u001b[0m \u001b[32m━━━━━━━━━━━━━━━━━━━━\u001b[0m\u001b[37m\u001b[0m \u001b[1m0s\u001b[0m 40ms/step\n",
      "[1 0 1 0 0 1 1 1 0 0] [0 0 0 0 0 1 1 0 1 1]\n",
      "Test Loss: 0.41404300928115845\n",
      "Test Accuracy:  0.5\n",
      "Pairs Created\n",
      "Train and Test Pairs Created\n"
     ]
    },
    {
     "name": "stderr",
     "output_type": "stream",
     "text": [
      "WARNING:absl:You are saving your model as an HDF5 file via `model.save()` or `keras.saving.save_model(model)`. This file format is considered legacy. We recommend using instead the native Keras format, e.g. `model.save('my_model.keras')` or `keras.saving.save_model(model, 'my_model.keras')`. \n"
     ]
    },
    {
     "name": "stdout",
     "output_type": "stream",
     "text": [
      "Model Trained\n",
      "Model Saved\n",
      "\u001b[1m1/1\u001b[0m \u001b[32m━━━━━━━━━━━━━━━━━━━━\u001b[0m\u001b[37m\u001b[0m \u001b[1m0s\u001b[0m 36ms/step\n",
      "[0 0 0 0 1 1 1 0 0 1] [0 0 0 0 0 0 0 0 0 0]\n",
      "Test Loss: 0.38037291169166565\n",
      "Test Accuracy:  0.6\n",
      "Pairs Created\n",
      "Train and Test Pairs Created\n"
     ]
    },
    {
     "name": "stderr",
     "output_type": "stream",
     "text": [
      "WARNING:absl:You are saving your model as an HDF5 file via `model.save()` or `keras.saving.save_model(model)`. This file format is considered legacy. We recommend using instead the native Keras format, e.g. `model.save('my_model.keras')` or `keras.saving.save_model(model, 'my_model.keras')`. \n"
     ]
    },
    {
     "name": "stdout",
     "output_type": "stream",
     "text": [
      "Model Trained\n",
      "Model Saved\n",
      "\u001b[1m1/1\u001b[0m \u001b[32m━━━━━━━━━━━━━━━━━━━━\u001b[0m\u001b[37m\u001b[0m \u001b[1m0s\u001b[0m 35ms/step\n",
      "[0 0 1 0 0 0 0 1 0 1] [0 0 0 0 0 0 0 0 0 0]\n",
      "Test Loss: 0.287894070148468\n",
      "Test Accuracy:  0.7\n",
      "Pairs Created\n",
      "Train and Test Pairs Created\n"
     ]
    },
    {
     "name": "stderr",
     "output_type": "stream",
     "text": [
      "WARNING:absl:You are saving your model as an HDF5 file via `model.save()` or `keras.saving.save_model(model)`. This file format is considered legacy. We recommend using instead the native Keras format, e.g. `model.save('my_model.keras')` or `keras.saving.save_model(model, 'my_model.keras')`. \n"
     ]
    },
    {
     "name": "stdout",
     "output_type": "stream",
     "text": [
      "Model Trained\n",
      "Model Saved\n",
      "\u001b[1m1/1\u001b[0m \u001b[32m━━━━━━━━━━━━━━━━━━━━\u001b[0m\u001b[37m\u001b[0m \u001b[1m0s\u001b[0m 44ms/step\n",
      "[1 0 1 1 0 0 0 1 1 0] [0 0 0 0 0 0 0 0 0 0]\n",
      "Test Loss: 0.47692909836769104\n",
      "Test Accuracy:  0.5\n",
      "Pairs Created\n",
      "Train and Test Pairs Created\n"
     ]
    },
    {
     "name": "stderr",
     "output_type": "stream",
     "text": [
      "WARNING:absl:You are saving your model as an HDF5 file via `model.save()` or `keras.saving.save_model(model)`. This file format is considered legacy. We recommend using instead the native Keras format, e.g. `model.save('my_model.keras')` or `keras.saving.save_model(model, 'my_model.keras')`. \n"
     ]
    },
    {
     "name": "stdout",
     "output_type": "stream",
     "text": [
      "Model Trained\n",
      "Model Saved\n",
      "\u001b[1m1/1\u001b[0m \u001b[32m━━━━━━━━━━━━━━━━━━━━\u001b[0m\u001b[37m\u001b[0m \u001b[1m0s\u001b[0m 34ms/step\n",
      "[0 1 0 1 1 1 0 1 0 1] [0 0 0 0 0 0 0 0 0 0]\n",
      "Test Loss: 0.584073543548584\n",
      "Test Accuracy:  0.4\n",
      "Pairs Created\n",
      "Train and Test Pairs Created\n"
     ]
    },
    {
     "name": "stderr",
     "output_type": "stream",
     "text": [
      "WARNING:absl:You are saving your model as an HDF5 file via `model.save()` or `keras.saving.save_model(model)`. This file format is considered legacy. We recommend using instead the native Keras format, e.g. `model.save('my_model.keras')` or `keras.saving.save_model(model, 'my_model.keras')`. \n"
     ]
    },
    {
     "name": "stdout",
     "output_type": "stream",
     "text": [
      "Model Trained\n",
      "Model Saved\n",
      "\u001b[1m1/1\u001b[0m \u001b[32m━━━━━━━━━━━━━━━━━━━━\u001b[0m\u001b[37m\u001b[0m \u001b[1m0s\u001b[0m 36ms/step\n",
      "[0 0 1 0 1 0 0 0 1 1] [0 0 0 0 0 0 0 0 0 0]\n",
      "Test Loss: 0.3861786127090454\n",
      "Test Accuracy:  0.6\n",
      "Pairs Created\n",
      "Train and Test Pairs Created\n"
     ]
    },
    {
     "name": "stderr",
     "output_type": "stream",
     "text": [
      "WARNING:absl:You are saving your model as an HDF5 file via `model.save()` or `keras.saving.save_model(model)`. This file format is considered legacy. We recommend using instead the native Keras format, e.g. `model.save('my_model.keras')` or `keras.saving.save_model(model, 'my_model.keras')`. \n"
     ]
    },
    {
     "name": "stdout",
     "output_type": "stream",
     "text": [
      "Model Trained\n",
      "Model Saved\n",
      "\u001b[1m1/1\u001b[0m \u001b[32m━━━━━━━━━━━━━━━━━━━━\u001b[0m\u001b[37m\u001b[0m \u001b[1m0s\u001b[0m 43ms/step\n",
      "[0 0 0 1 0 0 0 0 0 0] [0 0 0 0 0 0 0 0 0 0]\n",
      "Test Loss: 0.09680323302745819\n",
      "Test Accuracy:  0.9\n",
      "Pairs Created\n",
      "Train and Test Pairs Created\n"
     ]
    },
    {
     "name": "stderr",
     "output_type": "stream",
     "text": [
      "WARNING:absl:You are saving your model as an HDF5 file via `model.save()` or `keras.saving.save_model(model)`. This file format is considered legacy. We recommend using instead the native Keras format, e.g. `model.save('my_model.keras')` or `keras.saving.save_model(model, 'my_model.keras')`. \n"
     ]
    },
    {
     "name": "stdout",
     "output_type": "stream",
     "text": [
      "Model Trained\n",
      "Model Saved\n",
      "\u001b[1m1/1\u001b[0m \u001b[32m━━━━━━━━━━━━━━━━━━━━\u001b[0m\u001b[37m\u001b[0m \u001b[1m0s\u001b[0m 41ms/step\n",
      "[0 0 0 0 0 0 0 0 0 0] [0 0 0 0 0 0 0 0 0 0]\n",
      "Test Loss: 2.4647400209687476e-07\n",
      "Test Accuracy:  1.0\n",
      "Features Loaded\n",
      "Features Split\n",
      "Pairs Created\n",
      "Train and Test Pairs Created\n"
     ]
    },
    {
     "name": "stderr",
     "output_type": "stream",
     "text": [
      "WARNING:absl:You are saving your model as an HDF5 file via `model.save()` or `keras.saving.save_model(model)`. This file format is considered legacy. We recommend using instead the native Keras format, e.g. `model.save('my_model.keras')` or `keras.saving.save_model(model, 'my_model.keras')`. \n"
     ]
    },
    {
     "name": "stdout",
     "output_type": "stream",
     "text": [
      "Model Trained\n",
      "Model Saved\n",
      "\u001b[1m1/1\u001b[0m \u001b[32m━━━━━━━━━━━━━━━━━━━━\u001b[0m\u001b[37m\u001b[0m \u001b[1m0s\u001b[0m 47ms/step\n",
      "[0 0 0 0 0 0 0 0 0 0] [0 0 0 0 0 0 0 0 0 0]\n",
      "Test Loss: 1.1144504874494032e-08\n",
      "Test Accuracy:  1.0\n",
      "Pairs Created\n",
      "Train and Test Pairs Created\n"
     ]
    },
    {
     "name": "stderr",
     "output_type": "stream",
     "text": [
      "WARNING:absl:You are saving your model as an HDF5 file via `model.save()` or `keras.saving.save_model(model)`. This file format is considered legacy. We recommend using instead the native Keras format, e.g. `model.save('my_model.keras')` or `keras.saving.save_model(model, 'my_model.keras')`. \n"
     ]
    },
    {
     "name": "stdout",
     "output_type": "stream",
     "text": [
      "Model Trained\n",
      "Model Saved\n",
      "\u001b[1m1/1\u001b[0m \u001b[32m━━━━━━━━━━━━━━━━━━━━\u001b[0m\u001b[37m\u001b[0m \u001b[1m0s\u001b[0m 46ms/step\n",
      "[0 0 0 0 0 0 0 1 1 1] [0 0 0 0 0 0 0 0 0 0]\n",
      "Test Loss: 0.2931174039840698\n",
      "Test Accuracy:  0.7\n",
      "Pairs Created\n",
      "Train and Test Pairs Created\n"
     ]
    },
    {
     "name": "stderr",
     "output_type": "stream",
     "text": [
      "WARNING:absl:You are saving your model as an HDF5 file via `model.save()` or `keras.saving.save_model(model)`. This file format is considered legacy. We recommend using instead the native Keras format, e.g. `model.save('my_model.keras')` or `keras.saving.save_model(model, 'my_model.keras')`. \n"
     ]
    },
    {
     "name": "stdout",
     "output_type": "stream",
     "text": [
      "Model Trained\n",
      "Model Saved\n",
      "\u001b[1m1/1\u001b[0m \u001b[32m━━━━━━━━━━━━━━━━━━━━\u001b[0m\u001b[37m\u001b[0m \u001b[1m0s\u001b[0m 35ms/step\n",
      "[0 0 0 1 0 0 0 0 0 0] [0 0 0 0 0 0 0 0 0 0]\n",
      "Test Loss: 0.09540513902902603\n",
      "Test Accuracy:  0.9\n",
      "Pairs Created\n",
      "Train and Test Pairs Created\n"
     ]
    },
    {
     "name": "stderr",
     "output_type": "stream",
     "text": [
      "WARNING:absl:You are saving your model as an HDF5 file via `model.save()` or `keras.saving.save_model(model)`. This file format is considered legacy. We recommend using instead the native Keras format, e.g. `model.save('my_model.keras')` or `keras.saving.save_model(model, 'my_model.keras')`. \n"
     ]
    },
    {
     "name": "stdout",
     "output_type": "stream",
     "text": [
      "Model Trained\n",
      "Model Saved\n",
      "\u001b[1m1/1\u001b[0m \u001b[32m━━━━━━━━━━━━━━━━━━━━\u001b[0m\u001b[37m\u001b[0m \u001b[1m0s\u001b[0m 42ms/step\n",
      "[1 0 0 0 0 1 0 0 1 0] [1 1 0 0 0 1 0 0 0 0]\n",
      "Test Loss: 0.26412108540534973\n",
      "Test Accuracy:  0.8\n",
      "Pairs Created\n",
      "Train and Test Pairs Created\n"
     ]
    },
    {
     "name": "stderr",
     "output_type": "stream",
     "text": [
      "WARNING:absl:You are saving your model as an HDF5 file via `model.save()` or `keras.saving.save_model(model)`. This file format is considered legacy. We recommend using instead the native Keras format, e.g. `model.save('my_model.keras')` or `keras.saving.save_model(model, 'my_model.keras')`. \n"
     ]
    },
    {
     "name": "stdout",
     "output_type": "stream",
     "text": [
      "Model Trained\n",
      "Model Saved\n",
      "\u001b[1m1/1\u001b[0m \u001b[32m━━━━━━━━━━━━━━━━━━━━\u001b[0m\u001b[37m\u001b[0m \u001b[1m0s\u001b[0m 34ms/step\n",
      "[0 0 0 0 1 0 0 0 0 0] [0 0 0 0 0 0 0 0 0 0]\n",
      "Test Loss: 0.098518505692482\n",
      "Test Accuracy:  0.9\n",
      "Pairs Created\n",
      "Train and Test Pairs Created\n"
     ]
    },
    {
     "name": "stderr",
     "output_type": "stream",
     "text": [
      "WARNING:absl:You are saving your model as an HDF5 file via `model.save()` or `keras.saving.save_model(model)`. This file format is considered legacy. We recommend using instead the native Keras format, e.g. `model.save('my_model.keras')` or `keras.saving.save_model(model, 'my_model.keras')`. \n"
     ]
    },
    {
     "name": "stdout",
     "output_type": "stream",
     "text": [
      "Model Trained\n",
      "Model Saved\n",
      "\u001b[1m1/1\u001b[0m \u001b[32m━━━━━━━━━━━━━━━━━━━━\u001b[0m\u001b[37m\u001b[0m \u001b[1m0s\u001b[0m 34ms/step\n",
      "[1 1 0 1 0 0 0 1 0 0] [0 0 0 0 0 0 0 0 0 0]\n",
      "Test Loss: 0.38903144001960754\n",
      "Test Accuracy:  0.6\n",
      "Pairs Created\n",
      "Train and Test Pairs Created\n"
     ]
    },
    {
     "name": "stderr",
     "output_type": "stream",
     "text": [
      "WARNING:absl:You are saving your model as an HDF5 file via `model.save()` or `keras.saving.save_model(model)`. This file format is considered legacy. We recommend using instead the native Keras format, e.g. `model.save('my_model.keras')` or `keras.saving.save_model(model, 'my_model.keras')`. \n"
     ]
    },
    {
     "name": "stdout",
     "output_type": "stream",
     "text": [
      "Model Trained\n",
      "Model Saved\n",
      "\u001b[1m1/1\u001b[0m \u001b[32m━━━━━━━━━━━━━━━━━━━━\u001b[0m\u001b[37m\u001b[0m \u001b[1m0s\u001b[0m 34ms/step\n",
      "[0 1 1 1 0 1 0 0 0 0] [0 0 0 0 0 0 0 0 0 0]\n",
      "Test Loss: 0.3937714099884033\n",
      "Test Accuracy:  0.6\n",
      "Pairs Created\n",
      "Train and Test Pairs Created\n"
     ]
    },
    {
     "name": "stderr",
     "output_type": "stream",
     "text": [
      "WARNING:absl:You are saving your model as an HDF5 file via `model.save()` or `keras.saving.save_model(model)`. This file format is considered legacy. We recommend using instead the native Keras format, e.g. `model.save('my_model.keras')` or `keras.saving.save_model(model, 'my_model.keras')`. \n"
     ]
    },
    {
     "name": "stdout",
     "output_type": "stream",
     "text": [
      "Model Trained\n",
      "Model Saved\n",
      "\u001b[1m1/1\u001b[0m \u001b[32m━━━━━━━━━━━━━━━━━━━━\u001b[0m\u001b[37m\u001b[0m \u001b[1m0s\u001b[0m 47ms/step\n",
      "[1 1 0 0 1 0 0 0 1 0] [0 0 0 0 0 0 0 0 0 0]\n",
      "Test Loss: 0.38652968406677246\n",
      "Test Accuracy:  0.6\n",
      "Pairs Created\n",
      "Train and Test Pairs Created\n"
     ]
    },
    {
     "name": "stderr",
     "output_type": "stream",
     "text": [
      "WARNING:absl:You are saving your model as an HDF5 file via `model.save()` or `keras.saving.save_model(model)`. This file format is considered legacy. We recommend using instead the native Keras format, e.g. `model.save('my_model.keras')` or `keras.saving.save_model(model, 'my_model.keras')`. \n"
     ]
    },
    {
     "name": "stdout",
     "output_type": "stream",
     "text": [
      "Model Trained\n",
      "Model Saved\n",
      "\u001b[1m1/1\u001b[0m \u001b[32m━━━━━━━━━━━━━━━━━━━━\u001b[0m\u001b[37m\u001b[0m \u001b[1m0s\u001b[0m 37ms/step\n",
      "[0 0 0 0 0 0 0 0 0 0] [0 0 0 0 0 0 0 0 0 0]\n",
      "Test Loss: 4.62753541796701e-06\n",
      "Test Accuracy:  1.0\n",
      "Pairs Created\n",
      "Train and Test Pairs Created\n"
     ]
    },
    {
     "name": "stderr",
     "output_type": "stream",
     "text": [
      "WARNING:absl:You are saving your model as an HDF5 file via `model.save()` or `keras.saving.save_model(model)`. This file format is considered legacy. We recommend using instead the native Keras format, e.g. `model.save('my_model.keras')` or `keras.saving.save_model(model, 'my_model.keras')`. \n"
     ]
    },
    {
     "name": "stdout",
     "output_type": "stream",
     "text": [
      "Model Trained\n",
      "Model Saved\n",
      "\u001b[1m1/1\u001b[0m \u001b[32m━━━━━━━━━━━━━━━━━━━━\u001b[0m\u001b[37m\u001b[0m \u001b[1m0s\u001b[0m 43ms/step\n",
      "[0 0 0 0 0 0 0 0 0 0] [0 0 0 0 0 0 0 0 0 0]\n",
      "Test Loss: 1.5536350872480398e-08\n",
      "Test Accuracy:  1.0\n",
      "Features Loaded\n",
      "Features Split\n",
      "Pairs Created\n",
      "Train and Test Pairs Created\n"
     ]
    },
    {
     "name": "stderr",
     "output_type": "stream",
     "text": [
      "WARNING:absl:You are saving your model as an HDF5 file via `model.save()` or `keras.saving.save_model(model)`. This file format is considered legacy. We recommend using instead the native Keras format, e.g. `model.save('my_model.keras')` or `keras.saving.save_model(model, 'my_model.keras')`. \n"
     ]
    },
    {
     "name": "stdout",
     "output_type": "stream",
     "text": [
      "Model Trained\n",
      "Model Saved\n",
      "\u001b[1m1/1\u001b[0m \u001b[32m━━━━━━━━━━━━━━━━━━━━\u001b[0m\u001b[37m\u001b[0m \u001b[1m0s\u001b[0m 39ms/step\n",
      "[0 0 0 0 0 0 0 0 0 0] [0 0 0 0 0 0 0 0 0 0]\n",
      "Test Loss: 1.0001024008943205e-08\n",
      "Test Accuracy:  1.0\n",
      "Pairs Created\n",
      "Train and Test Pairs Created\n"
     ]
    },
    {
     "name": "stderr",
     "output_type": "stream",
     "text": [
      "WARNING:absl:You are saving your model as an HDF5 file via `model.save()` or `keras.saving.save_model(model)`. This file format is considered legacy. We recommend using instead the native Keras format, e.g. `model.save('my_model.keras')` or `keras.saving.save_model(model, 'my_model.keras')`. \n"
     ]
    },
    {
     "name": "stdout",
     "output_type": "stream",
     "text": [
      "Model Trained\n",
      "Model Saved\n",
      "\u001b[1m1/1\u001b[0m \u001b[32m━━━━━━━━━━━━━━━━━━━━\u001b[0m\u001b[37m\u001b[0m \u001b[1m0s\u001b[0m 44ms/step\n",
      "[0 0 0 0 0 0 1 0 0 0] [0 0 0 0 0 0 0 0 0 0]\n",
      "Test Loss: 0.09949781745672226\n",
      "Test Accuracy:  0.9\n",
      "Pairs Created\n",
      "Train and Test Pairs Created\n"
     ]
    },
    {
     "name": "stderr",
     "output_type": "stream",
     "text": [
      "WARNING:absl:You are saving your model as an HDF5 file via `model.save()` or `keras.saving.save_model(model)`. This file format is considered legacy. We recommend using instead the native Keras format, e.g. `model.save('my_model.keras')` or `keras.saving.save_model(model, 'my_model.keras')`. \n"
     ]
    },
    {
     "name": "stdout",
     "output_type": "stream",
     "text": [
      "Model Trained\n",
      "Model Saved\n",
      "\u001b[1m1/1\u001b[0m \u001b[32m━━━━━━━━━━━━━━━━━━━━\u001b[0m\u001b[37m\u001b[0m \u001b[1m0s\u001b[0m 36ms/step\n",
      "[0 1 0 1 0 0 1 1 1 1] [0 0 0 0 0 0 0 0 0 0]\n",
      "Test Loss: 0.5812249779701233\n",
      "Test Accuracy:  0.4\n",
      "Pairs Created\n",
      "Train and Test Pairs Created\n"
     ]
    },
    {
     "name": "stderr",
     "output_type": "stream",
     "text": [
      "WARNING:absl:You are saving your model as an HDF5 file via `model.save()` or `keras.saving.save_model(model)`. This file format is considered legacy. We recommend using instead the native Keras format, e.g. `model.save('my_model.keras')` or `keras.saving.save_model(model, 'my_model.keras')`. \n"
     ]
    },
    {
     "name": "stdout",
     "output_type": "stream",
     "text": [
      "Model Trained\n",
      "Model Saved\n",
      "\u001b[1m1/1\u001b[0m \u001b[32m━━━━━━━━━━━━━━━━━━━━\u001b[0m\u001b[37m\u001b[0m \u001b[1m0s\u001b[0m 46ms/step\n",
      "[1 1 0 0 1 1 0 1 0 0] [0 0 0 0 0 0 0 0 0 0]\n",
      "Test Loss: 0.48643070459365845\n",
      "Test Accuracy:  0.5\n",
      "Pairs Created\n",
      "Train and Test Pairs Created\n"
     ]
    },
    {
     "name": "stderr",
     "output_type": "stream",
     "text": [
      "WARNING:absl:You are saving your model as an HDF5 file via `model.save()` or `keras.saving.save_model(model)`. This file format is considered legacy. We recommend using instead the native Keras format, e.g. `model.save('my_model.keras')` or `keras.saving.save_model(model, 'my_model.keras')`. \n"
     ]
    },
    {
     "name": "stdout",
     "output_type": "stream",
     "text": [
      "Model Trained\n",
      "Model Saved\n",
      "\u001b[1m1/1\u001b[0m \u001b[32m━━━━━━━━━━━━━━━━━━━━\u001b[0m\u001b[37m\u001b[0m \u001b[1m0s\u001b[0m 43ms/step\n",
      "[1 1 0 0 0 0 0 0 0 0] [0 0 0 0 0 0 0 0 0 0]\n",
      "Test Loss: 0.19401687383651733\n",
      "Test Accuracy:  0.8\n",
      "Pairs Created\n",
      "Train and Test Pairs Created\n"
     ]
    },
    {
     "name": "stderr",
     "output_type": "stream",
     "text": [
      "WARNING:absl:You are saving your model as an HDF5 file via `model.save()` or `keras.saving.save_model(model)`. This file format is considered legacy. We recommend using instead the native Keras format, e.g. `model.save('my_model.keras')` or `keras.saving.save_model(model, 'my_model.keras')`. \n"
     ]
    },
    {
     "name": "stdout",
     "output_type": "stream",
     "text": [
      "Model Trained\n",
      "Model Saved\n",
      "\u001b[1m1/1\u001b[0m \u001b[32m━━━━━━━━━━━━━━━━━━━━\u001b[0m\u001b[37m\u001b[0m \u001b[1m0s\u001b[0m 38ms/step\n",
      "[0 1 1 1 1 1 0 0 0 0] [0 0 0 0 0 0 0 0 0 0]\n",
      "Test Loss: 0.49529898166656494\n",
      "Test Accuracy:  0.5\n",
      "Pairs Created\n",
      "Train and Test Pairs Created\n"
     ]
    },
    {
     "name": "stderr",
     "output_type": "stream",
     "text": [
      "WARNING:absl:You are saving your model as an HDF5 file via `model.save()` or `keras.saving.save_model(model)`. This file format is considered legacy. We recommend using instead the native Keras format, e.g. `model.save('my_model.keras')` or `keras.saving.save_model(model, 'my_model.keras')`. \n"
     ]
    },
    {
     "name": "stdout",
     "output_type": "stream",
     "text": [
      "Model Trained\n",
      "Model Saved\n",
      "\u001b[1m1/1\u001b[0m \u001b[32m━━━━━━━━━━━━━━━━━━━━\u001b[0m\u001b[37m\u001b[0m \u001b[1m0s\u001b[0m 42ms/step\n",
      "[0 1 0 1 1 0 0 1 0 0] [0 0 0 0 0 0 0 0 0 0]\n",
      "Test Loss: 0.3882541358470917\n",
      "Test Accuracy:  0.6\n",
      "Pairs Created\n",
      "Train and Test Pairs Created\n"
     ]
    },
    {
     "name": "stderr",
     "output_type": "stream",
     "text": [
      "WARNING:absl:You are saving your model as an HDF5 file via `model.save()` or `keras.saving.save_model(model)`. This file format is considered legacy. We recommend using instead the native Keras format, e.g. `model.save('my_model.keras')` or `keras.saving.save_model(model, 'my_model.keras')`. \n"
     ]
    },
    {
     "name": "stdout",
     "output_type": "stream",
     "text": [
      "Model Trained\n",
      "Model Saved\n",
      "\u001b[1m1/1\u001b[0m \u001b[32m━━━━━━━━━━━━━━━━━━━━\u001b[0m\u001b[37m\u001b[0m \u001b[1m0s\u001b[0m 36ms/step\n",
      "[0 1 0 0 0 1 0 0 0 0] [0 0 0 1 0 0 0 1 0 0]\n",
      "Test Loss: 0.1812412142753601\n",
      "Test Accuracy:  0.6\n",
      "Pairs Created\n",
      "Train and Test Pairs Created\n"
     ]
    },
    {
     "name": "stderr",
     "output_type": "stream",
     "text": [
      "WARNING:absl:You are saving your model as an HDF5 file via `model.save()` or `keras.saving.save_model(model)`. This file format is considered legacy. We recommend using instead the native Keras format, e.g. `model.save('my_model.keras')` or `keras.saving.save_model(model, 'my_model.keras')`. \n"
     ]
    },
    {
     "name": "stdout",
     "output_type": "stream",
     "text": [
      "Model Trained\n",
      "Model Saved\n",
      "\u001b[1m1/1\u001b[0m \u001b[32m━━━━━━━━━━━━━━━━━━━━\u001b[0m\u001b[37m\u001b[0m \u001b[1m0s\u001b[0m 48ms/step\n",
      "[1 1 1 1 0 1 1 0 1 0] [0 0 0 0 0 1 0 0 0 0]\n",
      "Test Loss: 0.6646199226379395\n",
      "Test Accuracy:  0.4\n",
      "Pairs Created\n",
      "Train and Test Pairs Created\n"
     ]
    },
    {
     "name": "stderr",
     "output_type": "stream",
     "text": [
      "WARNING:absl:You are saving your model as an HDF5 file via `model.save()` or `keras.saving.save_model(model)`. This file format is considered legacy. We recommend using instead the native Keras format, e.g. `model.save('my_model.keras')` or `keras.saving.save_model(model, 'my_model.keras')`. \n"
     ]
    },
    {
     "name": "stdout",
     "output_type": "stream",
     "text": [
      "Model Trained\n",
      "Model Saved\n",
      "\u001b[1m1/1\u001b[0m \u001b[32m━━━━━━━━━━━━━━━━━━━━\u001b[0m\u001b[37m\u001b[0m \u001b[1m0s\u001b[0m 51ms/step\n",
      "[0 0 0 0 0 0 0 0 0 0] [0 0 0 0 0 0 0 0 0 0]\n",
      "Test Loss: 6.519944406591094e-08\n",
      "Test Accuracy:  1.0\n",
      "Features Loaded\n",
      "Features Split\n",
      "Pairs Created\n",
      "Train and Test Pairs Created\n"
     ]
    },
    {
     "name": "stderr",
     "output_type": "stream",
     "text": [
      "WARNING:absl:You are saving your model as an HDF5 file via `model.save()` or `keras.saving.save_model(model)`. This file format is considered legacy. We recommend using instead the native Keras format, e.g. `model.save('my_model.keras')` or `keras.saving.save_model(model, 'my_model.keras')`. \n"
     ]
    },
    {
     "name": "stdout",
     "output_type": "stream",
     "text": [
      "Model Trained\n",
      "Model Saved\n",
      "\u001b[1m1/1\u001b[0m \u001b[32m━━━━━━━━━━━━━━━━━━━━\u001b[0m\u001b[37m\u001b[0m \u001b[1m0s\u001b[0m 42ms/step\n",
      "[0 1 0 1 1 0 1 0 0 0] [0 0 0 0 0 0 0 0 0 0]\n",
      "Test Loss: 0.38157394528388977\n",
      "Test Accuracy:  0.6\n",
      "Pairs Created\n",
      "Train and Test Pairs Created\n"
     ]
    },
    {
     "name": "stderr",
     "output_type": "stream",
     "text": [
      "WARNING:absl:You are saving your model as an HDF5 file via `model.save()` or `keras.saving.save_model(model)`. This file format is considered legacy. We recommend using instead the native Keras format, e.g. `model.save('my_model.keras')` or `keras.saving.save_model(model, 'my_model.keras')`. \n"
     ]
    },
    {
     "name": "stdout",
     "output_type": "stream",
     "text": [
      "Model Trained\n",
      "Model Saved\n",
      "\u001b[1m1/1\u001b[0m \u001b[32m━━━━━━━━━━━━━━━━━━━━\u001b[0m\u001b[37m\u001b[0m \u001b[1m0s\u001b[0m 39ms/step\n",
      "[0 0 1 1 1 0 0 0 1 0] [0 0 0 0 0 0 0 0 0 0]\n",
      "Test Loss: 0.39563876390457153\n",
      "Test Accuracy:  0.6\n",
      "Pairs Created\n",
      "Train and Test Pairs Created\n"
     ]
    },
    {
     "name": "stderr",
     "output_type": "stream",
     "text": [
      "WARNING:absl:You are saving your model as an HDF5 file via `model.save()` or `keras.saving.save_model(model)`. This file format is considered legacy. We recommend using instead the native Keras format, e.g. `model.save('my_model.keras')` or `keras.saving.save_model(model, 'my_model.keras')`. \n"
     ]
    },
    {
     "name": "stdout",
     "output_type": "stream",
     "text": [
      "Model Trained\n",
      "Model Saved\n",
      "\u001b[1m1/1\u001b[0m \u001b[32m━━━━━━━━━━━━━━━━━━━━\u001b[0m\u001b[37m\u001b[0m \u001b[1m0s\u001b[0m 40ms/step\n",
      "[1 0 1 0 1 1 1 0 0 0] [0 0 0 0 0 0 0 0 0 0]\n",
      "Test Loss: 0.48829689621925354\n",
      "Test Accuracy:  0.5\n",
      "Pairs Created\n",
      "Train and Test Pairs Created\n"
     ]
    },
    {
     "name": "stderr",
     "output_type": "stream",
     "text": [
      "WARNING:absl:You are saving your model as an HDF5 file via `model.save()` or `keras.saving.save_model(model)`. This file format is considered legacy. We recommend using instead the native Keras format, e.g. `model.save('my_model.keras')` or `keras.saving.save_model(model, 'my_model.keras')`. \n"
     ]
    },
    {
     "name": "stdout",
     "output_type": "stream",
     "text": [
      "Model Trained\n",
      "Model Saved\n",
      "\u001b[1m1/1\u001b[0m \u001b[32m━━━━━━━━━━━━━━━━━━━━\u001b[0m\u001b[37m\u001b[0m \u001b[1m0s\u001b[0m 48ms/step\n",
      "[0 0 0 0 0 0 0 0 1 1] [0 0 0 0 0 0 0 0 0 0]\n",
      "Test Loss: 0.1971079707145691\n",
      "Test Accuracy:  0.8\n",
      "Pairs Created\n",
      "Train and Test Pairs Created\n"
     ]
    },
    {
     "name": "stderr",
     "output_type": "stream",
     "text": [
      "WARNING:absl:You are saving your model as an HDF5 file via `model.save()` or `keras.saving.save_model(model)`. This file format is considered legacy. We recommend using instead the native Keras format, e.g. `model.save('my_model.keras')` or `keras.saving.save_model(model, 'my_model.keras')`. \n"
     ]
    },
    {
     "name": "stdout",
     "output_type": "stream",
     "text": [
      "Model Trained\n",
      "Model Saved\n",
      "\u001b[1m1/1\u001b[0m \u001b[32m━━━━━━━━━━━━━━━━━━━━\u001b[0m\u001b[37m\u001b[0m \u001b[1m0s\u001b[0m 51ms/step\n",
      "[1 1 1 1 0 0 0 1 1 1] [0 0 1 1 0 1 0 0 0 0]\n",
      "Test Loss: 0.6168623566627502\n",
      "Test Accuracy:  0.4\n",
      "Pairs Created\n",
      "Train and Test Pairs Created\n"
     ]
    },
    {
     "name": "stderr",
     "output_type": "stream",
     "text": [
      "WARNING:absl:You are saving your model as an HDF5 file via `model.save()` or `keras.saving.save_model(model)`. This file format is considered legacy. We recommend using instead the native Keras format, e.g. `model.save('my_model.keras')` or `keras.saving.save_model(model, 'my_model.keras')`. \n"
     ]
    },
    {
     "name": "stdout",
     "output_type": "stream",
     "text": [
      "Model Trained\n",
      "Model Saved\n",
      "\u001b[1m1/1\u001b[0m \u001b[32m━━━━━━━━━━━━━━━━━━━━\u001b[0m\u001b[37m\u001b[0m \u001b[1m0s\u001b[0m 41ms/step\n",
      "[0 0 1 0 0 1 0 1 1 0] [0 0 0 0 0 0 0 0 0 0]\n",
      "Test Loss: 0.39494505524635315\n",
      "Test Accuracy:  0.6\n",
      "Pairs Created\n",
      "Train and Test Pairs Created\n"
     ]
    },
    {
     "name": "stderr",
     "output_type": "stream",
     "text": [
      "WARNING:absl:You are saving your model as an HDF5 file via `model.save()` or `keras.saving.save_model(model)`. This file format is considered legacy. We recommend using instead the native Keras format, e.g. `model.save('my_model.keras')` or `keras.saving.save_model(model, 'my_model.keras')`. \n"
     ]
    },
    {
     "name": "stdout",
     "output_type": "stream",
     "text": [
      "Model Trained\n",
      "Model Saved\n",
      "\u001b[1m1/1\u001b[0m \u001b[32m━━━━━━━━━━━━━━━━━━━━\u001b[0m\u001b[37m\u001b[0m \u001b[1m0s\u001b[0m 36ms/step\n",
      "[0 0 1 0 0 0 0 0 0 0] [0 0 0 0 0 0 0 0 0 0]\n",
      "Test Loss: 0.09960674494504929\n",
      "Test Accuracy:  0.9\n",
      "Pairs Created\n",
      "Train and Test Pairs Created\n"
     ]
    },
    {
     "name": "stderr",
     "output_type": "stream",
     "text": [
      "WARNING:absl:You are saving your model as an HDF5 file via `model.save()` or `keras.saving.save_model(model)`. This file format is considered legacy. We recommend using instead the native Keras format, e.g. `model.save('my_model.keras')` or `keras.saving.save_model(model, 'my_model.keras')`. \n"
     ]
    },
    {
     "name": "stdout",
     "output_type": "stream",
     "text": [
      "Model Trained\n",
      "Model Saved\n",
      "\u001b[1m1/1\u001b[0m \u001b[32m━━━━━━━━━━━━━━━━━━━━\u001b[0m\u001b[37m\u001b[0m \u001b[1m0s\u001b[0m 41ms/step\n",
      "[0 0 0 0 0 0 0 1 0 0] [0 0 0 0 0 0 0 0 0 0]\n",
      "Test Loss: 0.09946880489587784\n",
      "Test Accuracy:  0.9\n",
      "Pairs Created\n",
      "Train and Test Pairs Created\n"
     ]
    },
    {
     "name": "stderr",
     "output_type": "stream",
     "text": [
      "WARNING:absl:You are saving your model as an HDF5 file via `model.save()` or `keras.saving.save_model(model)`. This file format is considered legacy. We recommend using instead the native Keras format, e.g. `model.save('my_model.keras')` or `keras.saving.save_model(model, 'my_model.keras')`. \n"
     ]
    },
    {
     "name": "stdout",
     "output_type": "stream",
     "text": [
      "Model Trained\n",
      "Model Saved\n",
      "\u001b[1m1/1\u001b[0m \u001b[32m━━━━━━━━━━━━━━━━━━━━\u001b[0m\u001b[37m\u001b[0m \u001b[1m0s\u001b[0m 39ms/step\n",
      "[0 1 0 0 0 1 0 0 1 1] [1 1 1 1 1 1 1 1 1 1]\n",
      "Test Loss: 0.26945704221725464\n",
      "Test Accuracy:  0.4\n",
      "Pairs Created\n",
      "Train and Test Pairs Created\n"
     ]
    },
    {
     "name": "stderr",
     "output_type": "stream",
     "text": [
      "WARNING:absl:You are saving your model as an HDF5 file via `model.save()` or `keras.saving.save_model(model)`. This file format is considered legacy. We recommend using instead the native Keras format, e.g. `model.save('my_model.keras')` or `keras.saving.save_model(model, 'my_model.keras')`. \n"
     ]
    },
    {
     "name": "stdout",
     "output_type": "stream",
     "text": [
      "Model Trained\n",
      "Model Saved\n",
      "\u001b[1m1/1\u001b[0m \u001b[32m━━━━━━━━━━━━━━━━━━━━\u001b[0m\u001b[37m\u001b[0m \u001b[1m0s\u001b[0m 43ms/step\n",
      "[0 1 1 0 0 1 0 0 1 0] [0 0 0 0 0 0 0 0 1 0]\n",
      "Test Loss: 0.3671890199184418\n",
      "Test Accuracy:  0.7\n",
      "Features Loaded\n",
      "Features Split\n",
      "Pairs Created\n",
      "Train and Test Pairs Created\n"
     ]
    },
    {
     "name": "stderr",
     "output_type": "stream",
     "text": [
      "WARNING:absl:You are saving your model as an HDF5 file via `model.save()` or `keras.saving.save_model(model)`. This file format is considered legacy. We recommend using instead the native Keras format, e.g. `model.save('my_model.keras')` or `keras.saving.save_model(model, 'my_model.keras')`. \n"
     ]
    },
    {
     "name": "stdout",
     "output_type": "stream",
     "text": [
      "Model Trained\n",
      "Model Saved\n",
      "\u001b[1m1/1\u001b[0m \u001b[32m━━━━━━━━━━━━━━━━━━━━\u001b[0m\u001b[37m\u001b[0m \u001b[1m0s\u001b[0m 37ms/step\n",
      "[0 0 0 0 0 0 0 0 0 0] [0 0 0 0 0 0 0 0 0 0]\n",
      "Test Loss: 1.0007202035922091e-06\n",
      "Test Accuracy:  1.0\n",
      "Pairs Created\n",
      "Train and Test Pairs Created\n"
     ]
    },
    {
     "name": "stderr",
     "output_type": "stream",
     "text": [
      "WARNING:absl:You are saving your model as an HDF5 file via `model.save()` or `keras.saving.save_model(model)`. This file format is considered legacy. We recommend using instead the native Keras format, e.g. `model.save('my_model.keras')` or `keras.saving.save_model(model, 'my_model.keras')`. \n"
     ]
    },
    {
     "name": "stdout",
     "output_type": "stream",
     "text": [
      "Model Trained\n",
      "Model Saved\n",
      "\u001b[1m1/1\u001b[0m \u001b[32m━━━━━━━━━━━━━━━━━━━━\u001b[0m\u001b[37m\u001b[0m \u001b[1m0s\u001b[0m 37ms/step\n",
      "[1 1 1 0 1 1 0 0 0 0] [1 1 1 1 1 1 1 1 1 1]\n",
      "Test Loss: 0.2753532826900482\n",
      "Test Accuracy:  0.5\n",
      "Pairs Created\n",
      "Train and Test Pairs Created\n"
     ]
    },
    {
     "name": "stderr",
     "output_type": "stream",
     "text": [
      "WARNING:absl:You are saving your model as an HDF5 file via `model.save()` or `keras.saving.save_model(model)`. This file format is considered legacy. We recommend using instead the native Keras format, e.g. `model.save('my_model.keras')` or `keras.saving.save_model(model, 'my_model.keras')`. \n"
     ]
    },
    {
     "name": "stdout",
     "output_type": "stream",
     "text": [
      "Model Trained\n",
      "Model Saved\n",
      "\u001b[1m1/1\u001b[0m \u001b[32m━━━━━━━━━━━━━━━━━━━━\u001b[0m\u001b[37m\u001b[0m \u001b[1m0s\u001b[0m 52ms/step\n",
      "[1 1 0 0 0 0 0 0 1 1] [1 1 1 1 1 1 1 1 1 1]\n",
      "Test Loss: 0.25462737679481506\n",
      "Test Accuracy:  0.4\n",
      "Pairs Created\n",
      "Train and Test Pairs Created\n"
     ]
    },
    {
     "name": "stderr",
     "output_type": "stream",
     "text": [
      "WARNING:absl:You are saving your model as an HDF5 file via `model.save()` or `keras.saving.save_model(model)`. This file format is considered legacy. We recommend using instead the native Keras format, e.g. `model.save('my_model.keras')` or `keras.saving.save_model(model, 'my_model.keras')`. \n"
     ]
    },
    {
     "name": "stdout",
     "output_type": "stream",
     "text": [
      "Model Trained\n",
      "Model Saved\n",
      "\u001b[1m1/1\u001b[0m \u001b[32m━━━━━━━━━━━━━━━━━━━━\u001b[0m\u001b[37m\u001b[0m \u001b[1m0s\u001b[0m 34ms/step\n",
      "[1 0 0 0 1 0 0 0 0 1] [0 0 0 0 0 0 0 0 0 0]\n",
      "Test Loss: 0.29335975646972656\n",
      "Test Accuracy:  0.7\n",
      "Pairs Created\n",
      "Train and Test Pairs Created\n"
     ]
    },
    {
     "name": "stderr",
     "output_type": "stream",
     "text": [
      "WARNING:absl:You are saving your model as an HDF5 file via `model.save()` or `keras.saving.save_model(model)`. This file format is considered legacy. We recommend using instead the native Keras format, e.g. `model.save('my_model.keras')` or `keras.saving.save_model(model, 'my_model.keras')`. \n"
     ]
    },
    {
     "name": "stdout",
     "output_type": "stream",
     "text": [
      "Model Trained\n",
      "Model Saved\n",
      "\u001b[1m1/1\u001b[0m \u001b[32m━━━━━━━━━━━━━━━━━━━━\u001b[0m\u001b[37m\u001b[0m \u001b[1m0s\u001b[0m 42ms/step\n",
      "[0 0 0 0 0 1 0 0 0 0] [0 0 0 0 0 0 0 0 0 0]\n",
      "Test Loss: 0.09796158969402313\n",
      "Test Accuracy:  0.9\n",
      "Pairs Created\n",
      "Train and Test Pairs Created\n"
     ]
    },
    {
     "name": "stderr",
     "output_type": "stream",
     "text": [
      "WARNING:absl:You are saving your model as an HDF5 file via `model.save()` or `keras.saving.save_model(model)`. This file format is considered legacy. We recommend using instead the native Keras format, e.g. `model.save('my_model.keras')` or `keras.saving.save_model(model, 'my_model.keras')`. \n"
     ]
    },
    {
     "name": "stdout",
     "output_type": "stream",
     "text": [
      "Model Trained\n",
      "Model Saved\n",
      "\u001b[1m1/1\u001b[0m \u001b[32m━━━━━━━━━━━━━━━━━━━━\u001b[0m\u001b[37m\u001b[0m \u001b[1m0s\u001b[0m 48ms/step\n",
      "[0 0 0 0 0 0 0 0 0 0] [0 0 0 0 0 0 0 0 0 0]\n",
      "Test Loss: 0.0002351141010876745\n",
      "Test Accuracy:  1.0\n",
      "Pairs Created\n",
      "Train and Test Pairs Created\n"
     ]
    },
    {
     "name": "stderr",
     "output_type": "stream",
     "text": [
      "WARNING:absl:You are saving your model as an HDF5 file via `model.save()` or `keras.saving.save_model(model)`. This file format is considered legacy. We recommend using instead the native Keras format, e.g. `model.save('my_model.keras')` or `keras.saving.save_model(model, 'my_model.keras')`. \n"
     ]
    },
    {
     "name": "stdout",
     "output_type": "stream",
     "text": [
      "Model Trained\n",
      "Model Saved\n",
      "\u001b[1m1/1\u001b[0m \u001b[32m━━━━━━━━━━━━━━━━━━━━\u001b[0m\u001b[37m\u001b[0m \u001b[1m0s\u001b[0m 34ms/step\n",
      "[0 0 0 0 0 0 0 0 0 0] [0 0 0 0 0 0 0 0 0 0]\n",
      "Test Loss: 1.0848145137742904e-07\n",
      "Test Accuracy:  1.0\n",
      "Pairs Created\n",
      "Train and Test Pairs Created\n"
     ]
    },
    {
     "name": "stderr",
     "output_type": "stream",
     "text": [
      "WARNING:absl:You are saving your model as an HDF5 file via `model.save()` or `keras.saving.save_model(model)`. This file format is considered legacy. We recommend using instead the native Keras format, e.g. `model.save('my_model.keras')` or `keras.saving.save_model(model, 'my_model.keras')`. \n"
     ]
    },
    {
     "name": "stdout",
     "output_type": "stream",
     "text": [
      "Model Trained\n",
      "Model Saved\n",
      "\u001b[1m1/1\u001b[0m \u001b[32m━━━━━━━━━━━━━━━━━━━━\u001b[0m\u001b[37m\u001b[0m \u001b[1m0s\u001b[0m 47ms/step\n",
      "[1 0 0 0 0 0 0 0 0 0] [0 0 0 0 0 0 0 0 0 0]\n",
      "Test Loss: 0.09951445460319519\n",
      "Test Accuracy:  0.9\n",
      "Pairs Created\n",
      "Train and Test Pairs Created\n"
     ]
    },
    {
     "name": "stderr",
     "output_type": "stream",
     "text": [
      "WARNING:absl:You are saving your model as an HDF5 file via `model.save()` or `keras.saving.save_model(model)`. This file format is considered legacy. We recommend using instead the native Keras format, e.g. `model.save('my_model.keras')` or `keras.saving.save_model(model, 'my_model.keras')`. \n"
     ]
    },
    {
     "name": "stdout",
     "output_type": "stream",
     "text": [
      "Model Trained\n",
      "Model Saved\n",
      "\u001b[1m1/1\u001b[0m \u001b[32m━━━━━━━━━━━━━━━━━━━━\u001b[0m\u001b[37m\u001b[0m \u001b[1m0s\u001b[0m 36ms/step\n",
      "[0 0 0 1 0 0 1 0 0 0] [0 0 0 0 0 0 0 0 0 0]\n",
      "Test Loss: 0.19441990554332733\n",
      "Test Accuracy:  0.8\n",
      "Pairs Created\n",
      "Train and Test Pairs Created\n"
     ]
    },
    {
     "name": "stderr",
     "output_type": "stream",
     "text": [
      "WARNING:absl:You are saving your model as an HDF5 file via `model.save()` or `keras.saving.save_model(model)`. This file format is considered legacy. We recommend using instead the native Keras format, e.g. `model.save('my_model.keras')` or `keras.saving.save_model(model, 'my_model.keras')`. \n"
     ]
    },
    {
     "name": "stdout",
     "output_type": "stream",
     "text": [
      "Model Trained\n",
      "Model Saved\n",
      "\u001b[1m1/1\u001b[0m \u001b[32m━━━━━━━━━━━━━━━━━━━━\u001b[0m\u001b[37m\u001b[0m \u001b[1m0s\u001b[0m 47ms/step\n",
      "[0 0 0 0 0 0 0 0 0 0] [0 0 0 0 0 0 0 0 0 0]\n",
      "Test Loss: 5.868566859135171e-07\n",
      "Test Accuracy:  1.0\n",
      "Features Loaded\n",
      "Features Split\n",
      "Pairs Created\n",
      "Train and Test Pairs Created\n"
     ]
    },
    {
     "name": "stderr",
     "output_type": "stream",
     "text": [
      "WARNING:absl:You are saving your model as an HDF5 file via `model.save()` or `keras.saving.save_model(model)`. This file format is considered legacy. We recommend using instead the native Keras format, e.g. `model.save('my_model.keras')` or `keras.saving.save_model(model, 'my_model.keras')`. \n"
     ]
    },
    {
     "name": "stdout",
     "output_type": "stream",
     "text": [
      "Model Trained\n",
      "Model Saved\n",
      "\u001b[1m1/1\u001b[0m \u001b[32m━━━━━━━━━━━━━━━━━━━━\u001b[0m\u001b[37m\u001b[0m \u001b[1m0s\u001b[0m 38ms/step\n",
      "[0 0 0 0 0 0 0 0 0 0] [0 0 0 0 0 0 0 0 0 0]\n",
      "Test Loss: 1.0556481910839466e-08\n",
      "Test Accuracy:  1.0\n",
      "Pairs Created\n",
      "Train and Test Pairs Created\n"
     ]
    },
    {
     "name": "stderr",
     "output_type": "stream",
     "text": [
      "WARNING:absl:You are saving your model as an HDF5 file via `model.save()` or `keras.saving.save_model(model)`. This file format is considered legacy. We recommend using instead the native Keras format, e.g. `model.save('my_model.keras')` or `keras.saving.save_model(model, 'my_model.keras')`. \n"
     ]
    },
    {
     "name": "stdout",
     "output_type": "stream",
     "text": [
      "Model Trained\n",
      "Model Saved\n",
      "\u001b[1m1/1\u001b[0m \u001b[32m━━━━━━━━━━━━━━━━━━━━\u001b[0m\u001b[37m\u001b[0m \u001b[1m0s\u001b[0m 34ms/step\n",
      "[0 0 0 0 0 0 0 0 0 0] [0 0 0 0 0 0 0 0 0 0]\n",
      "Test Loss: 2.606589077913668e-05\n",
      "Test Accuracy:  1.0\n",
      "Pairs Created\n",
      "Train and Test Pairs Created\n"
     ]
    },
    {
     "name": "stderr",
     "output_type": "stream",
     "text": [
      "WARNING:absl:You are saving your model as an HDF5 file via `model.save()` or `keras.saving.save_model(model)`. This file format is considered legacy. We recommend using instead the native Keras format, e.g. `model.save('my_model.keras')` or `keras.saving.save_model(model, 'my_model.keras')`. \n"
     ]
    },
    {
     "name": "stdout",
     "output_type": "stream",
     "text": [
      "Model Trained\n",
      "Model Saved\n",
      "\u001b[1m1/1\u001b[0m \u001b[32m━━━━━━━━━━━━━━━━━━━━\u001b[0m\u001b[37m\u001b[0m \u001b[1m0s\u001b[0m 41ms/step\n",
      "[0 0 1 0 0 0 1 0 0 0] [0 0 0 0 0 0 0 0 0 0]\n",
      "Test Loss: 0.19737549126148224\n",
      "Test Accuracy:  0.8\n",
      "Pairs Created\n",
      "Train and Test Pairs Created\n"
     ]
    },
    {
     "name": "stderr",
     "output_type": "stream",
     "text": [
      "WARNING:absl:You are saving your model as an HDF5 file via `model.save()` or `keras.saving.save_model(model)`. This file format is considered legacy. We recommend using instead the native Keras format, e.g. `model.save('my_model.keras')` or `keras.saving.save_model(model, 'my_model.keras')`. \n"
     ]
    },
    {
     "name": "stdout",
     "output_type": "stream",
     "text": [
      "Model Trained\n",
      "Model Saved\n",
      "\u001b[1m1/1\u001b[0m \u001b[32m━━━━━━━━━━━━━━━━━━━━\u001b[0m\u001b[37m\u001b[0m \u001b[1m0s\u001b[0m 50ms/step\n",
      "[0 1 0 1 0 0 0 0 0 1] [0 0 0 0 0 0 0 0 0 0]\n",
      "Test Loss: 0.26903802156448364\n",
      "Test Accuracy:  0.7\n",
      "Pairs Created\n",
      "Train and Test Pairs Created\n"
     ]
    },
    {
     "name": "stderr",
     "output_type": "stream",
     "text": [
      "WARNING:absl:You are saving your model as an HDF5 file via `model.save()` or `keras.saving.save_model(model)`. This file format is considered legacy. We recommend using instead the native Keras format, e.g. `model.save('my_model.keras')` or `keras.saving.save_model(model, 'my_model.keras')`. \n"
     ]
    },
    {
     "name": "stdout",
     "output_type": "stream",
     "text": [
      "Model Trained\n",
      "Model Saved\n",
      "\u001b[1m1/1\u001b[0m \u001b[32m━━━━━━━━━━━━━━━━━━━━\u001b[0m\u001b[37m\u001b[0m \u001b[1m0s\u001b[0m 41ms/step\n",
      "[0 1 1 0 0 1 0 1 1 1] [1 1 0 0 0 1 0 1 0 1]\n",
      "Test Loss: 0.48839667439460754\n",
      "Test Accuracy:  0.7\n",
      "Pairs Created\n",
      "Train and Test Pairs Created\n"
     ]
    },
    {
     "name": "stderr",
     "output_type": "stream",
     "text": [
      "WARNING:absl:You are saving your model as an HDF5 file via `model.save()` or `keras.saving.save_model(model)`. This file format is considered legacy. We recommend using instead the native Keras format, e.g. `model.save('my_model.keras')` or `keras.saving.save_model(model, 'my_model.keras')`. \n"
     ]
    },
    {
     "name": "stdout",
     "output_type": "stream",
     "text": [
      "Model Trained\n",
      "Model Saved\n",
      "\u001b[1m1/1\u001b[0m \u001b[32m━━━━━━━━━━━━━━━━━━━━\u001b[0m\u001b[37m\u001b[0m \u001b[1m0s\u001b[0m 44ms/step\n",
      "[1 0 1 0 0 0 1 0 1 0] [0 0 1 0 0 0 0 0 0 0]\n",
      "Test Loss: 0.3499448299407959\n",
      "Test Accuracy:  0.7\n",
      "Pairs Created\n",
      "Train and Test Pairs Created\n"
     ]
    },
    {
     "name": "stderr",
     "output_type": "stream",
     "text": [
      "WARNING:absl:You are saving your model as an HDF5 file via `model.save()` or `keras.saving.save_model(model)`. This file format is considered legacy. We recommend using instead the native Keras format, e.g. `model.save('my_model.keras')` or `keras.saving.save_model(model, 'my_model.keras')`. \n"
     ]
    },
    {
     "name": "stdout",
     "output_type": "stream",
     "text": [
      "Model Trained\n",
      "Model Saved\n",
      "\u001b[1m1/1\u001b[0m \u001b[32m━━━━━━━━━━━━━━━━━━━━\u001b[0m\u001b[37m\u001b[0m \u001b[1m0s\u001b[0m 45ms/step\n",
      "[0 1 0 1 0 0 0 1 1 1] [0 0 0 0 0 0 0 0 0 0]\n",
      "Test Loss: 0.4624658524990082\n",
      "Test Accuracy:  0.5\n",
      "Pairs Created\n",
      "Train and Test Pairs Created\n"
     ]
    },
    {
     "name": "stderr",
     "output_type": "stream",
     "text": [
      "WARNING:absl:You are saving your model as an HDF5 file via `model.save()` or `keras.saving.save_model(model)`. This file format is considered legacy. We recommend using instead the native Keras format, e.g. `model.save('my_model.keras')` or `keras.saving.save_model(model, 'my_model.keras')`. \n"
     ]
    },
    {
     "name": "stdout",
     "output_type": "stream",
     "text": [
      "Model Trained\n",
      "Model Saved\n",
      "\u001b[1m1/1\u001b[0m \u001b[32m━━━━━━━━━━━━━━━━━━━━\u001b[0m\u001b[37m\u001b[0m \u001b[1m0s\u001b[0m 48ms/step\n",
      "[1 0 0 1 0 1 1 0 0 1] [0 0 0 0 0 0 0 0 0 0]\n",
      "Test Loss: 0.4458484649658203\n",
      "Test Accuracy:  0.5\n",
      "Pairs Created\n",
      "Train and Test Pairs Created\n"
     ]
    },
    {
     "name": "stderr",
     "output_type": "stream",
     "text": [
      "WARNING:absl:You are saving your model as an HDF5 file via `model.save()` or `keras.saving.save_model(model)`. This file format is considered legacy. We recommend using instead the native Keras format, e.g. `model.save('my_model.keras')` or `keras.saving.save_model(model, 'my_model.keras')`. \n"
     ]
    },
    {
     "name": "stdout",
     "output_type": "stream",
     "text": [
      "Model Trained\n",
      "Model Saved\n",
      "\u001b[1m1/1\u001b[0m \u001b[32m━━━━━━━━━━━━━━━━━━━━\u001b[0m\u001b[37m\u001b[0m \u001b[1m0s\u001b[0m 36ms/step\n",
      "[0 0 1 0 1 0 1 0 0 0] [0 0 0 1 0 0 1 1 1 0]\n",
      "Test Loss: 0.25614985823631287\n",
      "Test Accuracy:  0.5\n",
      "Pairs Created\n",
      "Train and Test Pairs Created\n"
     ]
    },
    {
     "name": "stderr",
     "output_type": "stream",
     "text": [
      "WARNING:absl:You are saving your model as an HDF5 file via `model.save()` or `keras.saving.save_model(model)`. This file format is considered legacy. We recommend using instead the native Keras format, e.g. `model.save('my_model.keras')` or `keras.saving.save_model(model, 'my_model.keras')`. \n"
     ]
    },
    {
     "name": "stdout",
     "output_type": "stream",
     "text": [
      "Model Trained\n",
      "Model Saved\n",
      "\u001b[1m1/1\u001b[0m \u001b[32m━━━━━━━━━━━━━━━━━━━━\u001b[0m\u001b[37m\u001b[0m \u001b[1m0s\u001b[0m 37ms/step\n",
      "[0 0 0 0 0 0 0 0 0 0] [0 0 0 0 0 0 0 0 0 0]\n",
      "Test Loss: 2.2636666471953504e-05\n",
      "Test Accuracy:  1.0\n",
      "Features Loaded\n",
      "Features Split\n",
      "Pairs Created\n",
      "Train and Test Pairs Created\n"
     ]
    },
    {
     "name": "stderr",
     "output_type": "stream",
     "text": [
      "WARNING:absl:You are saving your model as an HDF5 file via `model.save()` or `keras.saving.save_model(model)`. This file format is considered legacy. We recommend using instead the native Keras format, e.g. `model.save('my_model.keras')` or `keras.saving.save_model(model, 'my_model.keras')`. \n"
     ]
    },
    {
     "name": "stdout",
     "output_type": "stream",
     "text": [
      "Model Trained\n",
      "Model Saved\n",
      "\u001b[1m1/1\u001b[0m \u001b[32m━━━━━━━━━━━━━━━━━━━━\u001b[0m\u001b[37m\u001b[0m \u001b[1m0s\u001b[0m 41ms/step\n",
      "[0 0 0 0 0 0 0 0 0 0] [0 0 0 0 0 0 0 0 0 0]\n",
      "Test Loss: 3.491141171707568e-07\n",
      "Test Accuracy:  1.0\n",
      "Pairs Created\n",
      "Train and Test Pairs Created\n"
     ]
    },
    {
     "name": "stderr",
     "output_type": "stream",
     "text": [
      "WARNING:absl:You are saving your model as an HDF5 file via `model.save()` or `keras.saving.save_model(model)`. This file format is considered legacy. We recommend using instead the native Keras format, e.g. `model.save('my_model.keras')` or `keras.saving.save_model(model, 'my_model.keras')`. \n"
     ]
    },
    {
     "name": "stdout",
     "output_type": "stream",
     "text": [
      "Model Trained\n",
      "Model Saved\n",
      "\u001b[1m1/1\u001b[0m \u001b[32m━━━━━━━━━━━━━━━━━━━━\u001b[0m\u001b[37m\u001b[0m \u001b[1m0s\u001b[0m 46ms/step\n",
      "[0 0 0 0 0 1 0 0 0 0] [0 0 0 0 0 0 0 0 0 0]\n",
      "Test Loss: 0.09400228410959244\n",
      "Test Accuracy:  0.9\n",
      "Pairs Created\n",
      "Train and Test Pairs Created\n"
     ]
    },
    {
     "name": "stderr",
     "output_type": "stream",
     "text": [
      "WARNING:absl:You are saving your model as an HDF5 file via `model.save()` or `keras.saving.save_model(model)`. This file format is considered legacy. We recommend using instead the native Keras format, e.g. `model.save('my_model.keras')` or `keras.saving.save_model(model, 'my_model.keras')`. \n"
     ]
    },
    {
     "name": "stdout",
     "output_type": "stream",
     "text": [
      "Model Trained\n",
      "Model Saved\n",
      "\u001b[1m1/1\u001b[0m \u001b[32m━━━━━━━━━━━━━━━━━━━━\u001b[0m\u001b[37m\u001b[0m \u001b[1m0s\u001b[0m 33ms/step\n",
      "[1 1 1 0 1 0 0 1 0 1] [1 1 1 1 1 1 1 1 1 1]\n",
      "Test Loss: 0.43874794244766235\n",
      "Test Accuracy:  0.6\n",
      "Pairs Created\n",
      "Train and Test Pairs Created\n"
     ]
    },
    {
     "name": "stderr",
     "output_type": "stream",
     "text": [
      "WARNING:absl:You are saving your model as an HDF5 file via `model.save()` or `keras.saving.save_model(model)`. This file format is considered legacy. We recommend using instead the native Keras format, e.g. `model.save('my_model.keras')` or `keras.saving.save_model(model, 'my_model.keras')`. \n"
     ]
    },
    {
     "name": "stdout",
     "output_type": "stream",
     "text": [
      "Model Trained\n",
      "Model Saved\n",
      "\u001b[1m1/1\u001b[0m \u001b[32m━━━━━━━━━━━━━━━━━━━━\u001b[0m\u001b[37m\u001b[0m \u001b[1m0s\u001b[0m 34ms/step\n",
      "[1 0 0 1 1 0 1 0 1 0] [0 0 0 0 0 0 0 0 0 0]\n",
      "Test Loss: 0.4695935845375061\n",
      "Test Accuracy:  0.5\n",
      "Pairs Created\n",
      "Train and Test Pairs Created\n"
     ]
    },
    {
     "name": "stderr",
     "output_type": "stream",
     "text": [
      "WARNING:absl:You are saving your model as an HDF5 file via `model.save()` or `keras.saving.save_model(model)`. This file format is considered legacy. We recommend using instead the native Keras format, e.g. `model.save('my_model.keras')` or `keras.saving.save_model(model, 'my_model.keras')`. \n"
     ]
    },
    {
     "name": "stdout",
     "output_type": "stream",
     "text": [
      "Model Trained\n",
      "Model Saved\n",
      "\u001b[1m1/1\u001b[0m \u001b[32m━━━━━━━━━━━━━━━━━━━━\u001b[0m\u001b[37m\u001b[0m \u001b[1m0s\u001b[0m 44ms/step\n",
      "[0 1 0 1 0 0 1 1 1 0] [0 1 0 1 0 1 1 1 0 0]\n",
      "Test Loss: 0.4102889597415924\n",
      "Test Accuracy:  0.8\n",
      "Pairs Created\n",
      "Train and Test Pairs Created\n"
     ]
    },
    {
     "name": "stderr",
     "output_type": "stream",
     "text": [
      "WARNING:absl:You are saving your model as an HDF5 file via `model.save()` or `keras.saving.save_model(model)`. This file format is considered legacy. We recommend using instead the native Keras format, e.g. `model.save('my_model.keras')` or `keras.saving.save_model(model, 'my_model.keras')`. \n"
     ]
    },
    {
     "name": "stdout",
     "output_type": "stream",
     "text": [
      "Model Trained\n",
      "Model Saved\n",
      "\u001b[1m1/1\u001b[0m \u001b[32m━━━━━━━━━━━━━━━━━━━━\u001b[0m\u001b[37m\u001b[0m \u001b[1m0s\u001b[0m 44ms/step\n",
      "[0 1 1 0 1 0 0 0 0 1] [0 0 0 0 0 0 0 0 0 0]\n",
      "Test Loss: 0.3737376928329468\n",
      "Test Accuracy:  0.6\n",
      "Pairs Created\n",
      "Train and Test Pairs Created\n"
     ]
    },
    {
     "name": "stderr",
     "output_type": "stream",
     "text": [
      "WARNING:absl:You are saving your model as an HDF5 file via `model.save()` or `keras.saving.save_model(model)`. This file format is considered legacy. We recommend using instead the native Keras format, e.g. `model.save('my_model.keras')` or `keras.saving.save_model(model, 'my_model.keras')`. \n"
     ]
    },
    {
     "name": "stdout",
     "output_type": "stream",
     "text": [
      "Model Trained\n",
      "Model Saved\n",
      "\u001b[1m1/1\u001b[0m \u001b[32m━━━━━━━━━━━━━━━━━━━━\u001b[0m\u001b[37m\u001b[0m \u001b[1m0s\u001b[0m 38ms/step\n",
      "[0 0 0 0 1 1 1 0 0 1] [0 0 0 0 0 0 0 0 0 0]\n",
      "Test Loss: 0.3946342468261719\n",
      "Test Accuracy:  0.6\n",
      "Pairs Created\n",
      "Train and Test Pairs Created\n"
     ]
    },
    {
     "name": "stderr",
     "output_type": "stream",
     "text": [
      "WARNING:absl:You are saving your model as an HDF5 file via `model.save()` or `keras.saving.save_model(model)`. This file format is considered legacy. We recommend using instead the native Keras format, e.g. `model.save('my_model.keras')` or `keras.saving.save_model(model, 'my_model.keras')`. \n"
     ]
    },
    {
     "name": "stdout",
     "output_type": "stream",
     "text": [
      "Model Trained\n",
      "Model Saved\n",
      "\u001b[1m1/1\u001b[0m \u001b[32m━━━━━━━━━━━━━━━━━━━━\u001b[0m\u001b[37m\u001b[0m \u001b[1m0s\u001b[0m 35ms/step\n",
      "[0 0 0 0 0 1 0 0 1 0] [0 0 0 0 0 0 0 0 0 0]\n",
      "Test Loss: 0.19349075853824615\n",
      "Test Accuracy:  0.8\n",
      "Pairs Created\n",
      "Train and Test Pairs Created\n"
     ]
    },
    {
     "name": "stderr",
     "output_type": "stream",
     "text": [
      "WARNING:absl:You are saving your model as an HDF5 file via `model.save()` or `keras.saving.save_model(model)`. This file format is considered legacy. We recommend using instead the native Keras format, e.g. `model.save('my_model.keras')` or `keras.saving.save_model(model, 'my_model.keras')`. \n"
     ]
    },
    {
     "name": "stdout",
     "output_type": "stream",
     "text": [
      "Model Trained\n",
      "Model Saved\n",
      "\u001b[1m1/1\u001b[0m \u001b[32m━━━━━━━━━━━━━━━━━━━━\u001b[0m\u001b[37m\u001b[0m \u001b[1m0s\u001b[0m 36ms/step\n",
      "[0 0 0 0 0 0 0 0 0 0] [0 0 0 0 0 0 0 0 0 0]\n",
      "Test Loss: 0.00026765899383462965\n",
      "Test Accuracy:  1.0\n",
      "Pairs Created\n",
      "Train and Test Pairs Created\n"
     ]
    },
    {
     "name": "stderr",
     "output_type": "stream",
     "text": [
      "WARNING:absl:You are saving your model as an HDF5 file via `model.save()` or `keras.saving.save_model(model)`. This file format is considered legacy. We recommend using instead the native Keras format, e.g. `model.save('my_model.keras')` or `keras.saving.save_model(model, 'my_model.keras')`. \n"
     ]
    },
    {
     "name": "stdout",
     "output_type": "stream",
     "text": [
      "Model Trained\n",
      "Model Saved\n",
      "\u001b[1m1/1\u001b[0m \u001b[32m━━━━━━━━━━━━━━━━━━━━\u001b[0m\u001b[37m\u001b[0m \u001b[1m0s\u001b[0m 47ms/step\n",
      "[0 0 0 0 0 0 0 0 0 0] [0 0 0 0 0 0 0 0 0 0]\n",
      "Test Loss: 1.8382544908490672e-07\n",
      "Test Accuracy:  1.0\n",
      "Features Loaded\n",
      "Features Split\n",
      "Pairs Created\n",
      "Train and Test Pairs Created\n"
     ]
    },
    {
     "name": "stderr",
     "output_type": "stream",
     "text": [
      "WARNING:absl:You are saving your model as an HDF5 file via `model.save()` or `keras.saving.save_model(model)`. This file format is considered legacy. We recommend using instead the native Keras format, e.g. `model.save('my_model.keras')` or `keras.saving.save_model(model, 'my_model.keras')`. \n"
     ]
    },
    {
     "name": "stdout",
     "output_type": "stream",
     "text": [
      "Model Trained\n",
      "Model Saved\n",
      "\u001b[1m1/1\u001b[0m \u001b[32m━━━━━━━━━━━━━━━━━━━━\u001b[0m\u001b[37m\u001b[0m \u001b[1m0s\u001b[0m 39ms/step\n",
      "[0 0 0 0 0 0 0 0 0 0] [0 0 0 0 0 0 0 0 0 0]\n",
      "Test Loss: 1.2074796273964239e-08\n",
      "Test Accuracy:  1.0\n",
      "Pairs Created\n",
      "Train and Test Pairs Created\n"
     ]
    },
    {
     "name": "stderr",
     "output_type": "stream",
     "text": [
      "WARNING:absl:You are saving your model as an HDF5 file via `model.save()` or `keras.saving.save_model(model)`. This file format is considered legacy. We recommend using instead the native Keras format, e.g. `model.save('my_model.keras')` or `keras.saving.save_model(model, 'my_model.keras')`. \n"
     ]
    },
    {
     "name": "stdout",
     "output_type": "stream",
     "text": [
      "Model Trained\n",
      "Model Saved\n",
      "\u001b[1m1/1\u001b[0m \u001b[32m━━━━━━━━━━━━━━━━━━━━\u001b[0m\u001b[37m\u001b[0m \u001b[1m0s\u001b[0m 32ms/step\n",
      "[0 0 1 0 1 0 0 0 0 1] [0 0 0 0 0 0 0 0 0 0]\n",
      "Test Loss: 0.2948387563228607\n",
      "Test Accuracy:  0.7\n",
      "Pairs Created\n",
      "Train and Test Pairs Created\n"
     ]
    },
    {
     "name": "stderr",
     "output_type": "stream",
     "text": [
      "WARNING:absl:You are saving your model as an HDF5 file via `model.save()` or `keras.saving.save_model(model)`. This file format is considered legacy. We recommend using instead the native Keras format, e.g. `model.save('my_model.keras')` or `keras.saving.save_model(model, 'my_model.keras')`. \n"
     ]
    },
    {
     "name": "stdout",
     "output_type": "stream",
     "text": [
      "Model Trained\n",
      "Model Saved\n",
      "\u001b[1m1/1\u001b[0m \u001b[32m━━━━━━━━━━━━━━━━━━━━\u001b[0m\u001b[37m\u001b[0m \u001b[1m0s\u001b[0m 38ms/step\n",
      "[0 0 0 0 0 0 0 1 0 1] [0 0 0 0 0 0 0 0 0 0]\n",
      "Test Loss: 0.19876450300216675\n",
      "Test Accuracy:  0.8\n",
      "Pairs Created\n",
      "Train and Test Pairs Created\n"
     ]
    },
    {
     "name": "stderr",
     "output_type": "stream",
     "text": [
      "WARNING:absl:You are saving your model as an HDF5 file via `model.save()` or `keras.saving.save_model(model)`. This file format is considered legacy. We recommend using instead the native Keras format, e.g. `model.save('my_model.keras')` or `keras.saving.save_model(model, 'my_model.keras')`. \n"
     ]
    },
    {
     "name": "stdout",
     "output_type": "stream",
     "text": [
      "Model Trained\n",
      "Model Saved\n",
      "\u001b[1m1/1\u001b[0m \u001b[32m━━━━━━━━━━━━━━━━━━━━\u001b[0m\u001b[37m\u001b[0m \u001b[1m0s\u001b[0m 36ms/step\n",
      "[0 0 0 1 1 0 1 0 0 0] [0 0 0 0 0 0 1 0 0 0]\n",
      "Test Loss: 0.26716944575309753\n",
      "Test Accuracy:  0.8\n",
      "Pairs Created\n",
      "Train and Test Pairs Created\n"
     ]
    },
    {
     "name": "stderr",
     "output_type": "stream",
     "text": [
      "WARNING:absl:You are saving your model as an HDF5 file via `model.save()` or `keras.saving.save_model(model)`. This file format is considered legacy. We recommend using instead the native Keras format, e.g. `model.save('my_model.keras')` or `keras.saving.save_model(model, 'my_model.keras')`. \n"
     ]
    },
    {
     "name": "stdout",
     "output_type": "stream",
     "text": [
      "Model Trained\n",
      "Model Saved\n",
      "\u001b[1m1/1\u001b[0m \u001b[32m━━━━━━━━━━━━━━━━━━━━\u001b[0m\u001b[37m\u001b[0m \u001b[1m0s\u001b[0m 37ms/step\n",
      "[0 1 0 1 0 1 0 1 0 0] [0 0 0 1 0 0 0 0 0 0]\n",
      "Test Loss: 0.3535971939563751\n",
      "Test Accuracy:  0.7\n",
      "Pairs Created\n",
      "Train and Test Pairs Created\n"
     ]
    },
    {
     "name": "stderr",
     "output_type": "stream",
     "text": [
      "WARNING:absl:You are saving your model as an HDF5 file via `model.save()` or `keras.saving.save_model(model)`. This file format is considered legacy. We recommend using instead the native Keras format, e.g. `model.save('my_model.keras')` or `keras.saving.save_model(model, 'my_model.keras')`. \n"
     ]
    },
    {
     "name": "stdout",
     "output_type": "stream",
     "text": [
      "Model Trained\n",
      "Model Saved\n",
      "\u001b[1m1/1\u001b[0m \u001b[32m━━━━━━━━━━━━━━━━━━━━\u001b[0m\u001b[37m\u001b[0m \u001b[1m0s\u001b[0m 43ms/step\n",
      "[1 1 1 1 1 0 0 0 0 0] [1 1 1 1 1 1 1 1 0 0]\n",
      "Test Loss: 0.38041236996650696\n",
      "Test Accuracy:  0.7\n",
      "Pairs Created\n",
      "Train and Test Pairs Created\n"
     ]
    },
    {
     "name": "stderr",
     "output_type": "stream",
     "text": [
      "WARNING:absl:You are saving your model as an HDF5 file via `model.save()` or `keras.saving.save_model(model)`. This file format is considered legacy. We recommend using instead the native Keras format, e.g. `model.save('my_model.keras')` or `keras.saving.save_model(model, 'my_model.keras')`. \n"
     ]
    },
    {
     "name": "stdout",
     "output_type": "stream",
     "text": [
      "Model Trained\n",
      "Model Saved\n",
      "\u001b[1m1/1\u001b[0m \u001b[32m━━━━━━━━━━━━━━━━━━━━\u001b[0m\u001b[37m\u001b[0m \u001b[1m0s\u001b[0m 39ms/step\n",
      "[0 0 1 1 0 1 1 0 0 0] [0 1 0 0 0 0 1 0 0 0]\n",
      "Test Loss: 0.35309121012687683\n",
      "Test Accuracy:  0.6\n",
      "Pairs Created\n",
      "Train and Test Pairs Created\n"
     ]
    },
    {
     "name": "stderr",
     "output_type": "stream",
     "text": [
      "WARNING:absl:You are saving your model as an HDF5 file via `model.save()` or `keras.saving.save_model(model)`. This file format is considered legacy. We recommend using instead the native Keras format, e.g. `model.save('my_model.keras')` or `keras.saving.save_model(model, 'my_model.keras')`. \n"
     ]
    },
    {
     "name": "stdout",
     "output_type": "stream",
     "text": [
      "Model Trained\n",
      "Model Saved\n",
      "\u001b[1m1/1\u001b[0m \u001b[32m━━━━━━━━━━━━━━━━━━━━\u001b[0m\u001b[37m\u001b[0m \u001b[1m0s\u001b[0m 50ms/step\n",
      "[1 1 1 0 1 0 0 0 1 1] [0 0 0 0 0 0 1 1 0 0]\n",
      "Test Loss: 0.5298762321472168\n",
      "Test Accuracy:  0.2\n",
      "Pairs Created\n",
      "Train and Test Pairs Created\n"
     ]
    },
    {
     "name": "stderr",
     "output_type": "stream",
     "text": [
      "WARNING:absl:You are saving your model as an HDF5 file via `model.save()` or `keras.saving.save_model(model)`. This file format is considered legacy. We recommend using instead the native Keras format, e.g. `model.save('my_model.keras')` or `keras.saving.save_model(model, 'my_model.keras')`. \n"
     ]
    },
    {
     "name": "stdout",
     "output_type": "stream",
     "text": [
      "Model Trained\n",
      "Model Saved\n",
      "\u001b[1m1/1\u001b[0m \u001b[32m━━━━━━━━━━━━━━━━━━━━\u001b[0m\u001b[37m\u001b[0m \u001b[1m0s\u001b[0m 36ms/step\n",
      "[1 0 1 1 0 0 0 1 1 1] [0 0 0 0 0 0 0 0 0 0]\n",
      "Test Loss: 0.5970757007598877\n",
      "Test Accuracy:  0.4\n",
      "Pairs Created\n",
      "Train and Test Pairs Created\n"
     ]
    },
    {
     "name": "stderr",
     "output_type": "stream",
     "text": [
      "WARNING:absl:You are saving your model as an HDF5 file via `model.save()` or `keras.saving.save_model(model)`. This file format is considered legacy. We recommend using instead the native Keras format, e.g. `model.save('my_model.keras')` or `keras.saving.save_model(model, 'my_model.keras')`. \n"
     ]
    },
    {
     "name": "stdout",
     "output_type": "stream",
     "text": [
      "Model Trained\n",
      "Model Saved\n",
      "\u001b[1m1/1\u001b[0m \u001b[32m━━━━━━━━━━━━━━━━━━━━\u001b[0m\u001b[37m\u001b[0m \u001b[1m0s\u001b[0m 36ms/step\n",
      "[0 0 0 0 0 0 0 0 0 0] [0 0 0 0 0 0 0 0 0 0]\n",
      "Test Loss: 1.9860027578033623e-07\n",
      "Test Accuracy:  1.0\n",
      "Features Loaded\n",
      "Features Split\n",
      "Pairs Created\n",
      "Train and Test Pairs Created\n"
     ]
    },
    {
     "name": "stderr",
     "output_type": "stream",
     "text": [
      "WARNING:absl:You are saving your model as an HDF5 file via `model.save()` or `keras.saving.save_model(model)`. This file format is considered legacy. We recommend using instead the native Keras format, e.g. `model.save('my_model.keras')` or `keras.saving.save_model(model, 'my_model.keras')`. \n"
     ]
    },
    {
     "name": "stdout",
     "output_type": "stream",
     "text": [
      "Model Trained\n",
      "Model Saved\n",
      "\u001b[1m1/1\u001b[0m \u001b[32m━━━━━━━━━━━━━━━━━━━━\u001b[0m\u001b[37m\u001b[0m \u001b[1m0s\u001b[0m 36ms/step\n",
      "[0 0 0 0 1 0 0 0 0 0] [0 1 1 0 1 0 1 1 0 1]\n",
      "Test Loss: 0.0913611426949501\n",
      "Test Accuracy:  0.5\n",
      "Pairs Created\n",
      "Train and Test Pairs Created\n"
     ]
    },
    {
     "name": "stderr",
     "output_type": "stream",
     "text": [
      "WARNING:absl:You are saving your model as an HDF5 file via `model.save()` or `keras.saving.save_model(model)`. This file format is considered legacy. We recommend using instead the native Keras format, e.g. `model.save('my_model.keras')` or `keras.saving.save_model(model, 'my_model.keras')`. \n"
     ]
    },
    {
     "name": "stdout",
     "output_type": "stream",
     "text": [
      "Model Trained\n",
      "Model Saved\n",
      "\u001b[1m1/1\u001b[0m \u001b[32m━━━━━━━━━━━━━━━━━━━━\u001b[0m\u001b[37m\u001b[0m \u001b[1m0s\u001b[0m 39ms/step\n",
      "[0 0 0 1 1 0 1 0 0 0] [0 0 0 0 0 0 0 0 0 0]\n",
      "Test Loss: 0.2702435553073883\n",
      "Test Accuracy:  0.7\n",
      "Pairs Created\n",
      "Train and Test Pairs Created\n"
     ]
    },
    {
     "name": "stderr",
     "output_type": "stream",
     "text": [
      "WARNING:absl:You are saving your model as an HDF5 file via `model.save()` or `keras.saving.save_model(model)`. This file format is considered legacy. We recommend using instead the native Keras format, e.g. `model.save('my_model.keras')` or `keras.saving.save_model(model, 'my_model.keras')`. \n"
     ]
    },
    {
     "name": "stdout",
     "output_type": "stream",
     "text": [
      "Model Trained\n",
      "Model Saved\n",
      "\u001b[1m1/1\u001b[0m \u001b[32m━━━━━━━━━━━━━━━━━━━━\u001b[0m\u001b[37m\u001b[0m \u001b[1m0s\u001b[0m 35ms/step\n",
      "[0 0 1 1 1 0 0 1 0 0] [0 0 0 0 0 0 0 0 0 0]\n",
      "Test Loss: 0.3740130662918091\n",
      "Test Accuracy:  0.6\n",
      "Pairs Created\n",
      "Train and Test Pairs Created\n"
     ]
    },
    {
     "name": "stderr",
     "output_type": "stream",
     "text": [
      "WARNING:absl:You are saving your model as an HDF5 file via `model.save()` or `keras.saving.save_model(model)`. This file format is considered legacy. We recommend using instead the native Keras format, e.g. `model.save('my_model.keras')` or `keras.saving.save_model(model, 'my_model.keras')`. \n"
     ]
    },
    {
     "name": "stdout",
     "output_type": "stream",
     "text": [
      "Model Trained\n",
      "Model Saved\n",
      "\u001b[1m1/1\u001b[0m \u001b[32m━━━━━━━━━━━━━━━━━━━━\u001b[0m\u001b[37m\u001b[0m \u001b[1m0s\u001b[0m 32ms/step\n",
      "[1 0 0 1 0 0 0 0 1 0] [0 0 0 0 0 0 0 0 0 0]\n",
      "Test Loss: 0.2749909460544586\n",
      "Test Accuracy:  0.7\n",
      "Pairs Created\n",
      "Train and Test Pairs Created\n"
     ]
    },
    {
     "name": "stderr",
     "output_type": "stream",
     "text": [
      "WARNING:absl:You are saving your model as an HDF5 file via `model.save()` or `keras.saving.save_model(model)`. This file format is considered legacy. We recommend using instead the native Keras format, e.g. `model.save('my_model.keras')` or `keras.saving.save_model(model, 'my_model.keras')`. \n"
     ]
    },
    {
     "name": "stdout",
     "output_type": "stream",
     "text": [
      "Model Trained\n",
      "Model Saved\n",
      "\u001b[1m1/1\u001b[0m \u001b[32m━━━━━━━━━━━━━━━━━━━━\u001b[0m\u001b[37m\u001b[0m \u001b[1m0s\u001b[0m 34ms/step\n",
      "[0 0 1 0 0 1 0 0 0 1] [0 0 0 0 0 0 0 0 0 0]\n",
      "Test Loss: 0.2623046040534973\n",
      "Test Accuracy:  0.7\n",
      "Pairs Created\n",
      "Train and Test Pairs Created\n"
     ]
    },
    {
     "name": "stderr",
     "output_type": "stream",
     "text": [
      "WARNING:absl:You are saving your model as an HDF5 file via `model.save()` or `keras.saving.save_model(model)`. This file format is considered legacy. We recommend using instead the native Keras format, e.g. `model.save('my_model.keras')` or `keras.saving.save_model(model, 'my_model.keras')`. \n"
     ]
    },
    {
     "name": "stdout",
     "output_type": "stream",
     "text": [
      "Model Trained\n",
      "Model Saved\n",
      "\u001b[1m1/1\u001b[0m \u001b[32m━━━━━━━━━━━━━━━━━━━━\u001b[0m\u001b[37m\u001b[0m \u001b[1m0s\u001b[0m 35ms/step\n",
      "[0 1 0 0 0 0 0 0 1 0] [0 0 0 0 0 0 0 0 0 0]\n",
      "Test Loss: 0.18018987774848938\n",
      "Test Accuracy:  0.8\n",
      "Pairs Created\n",
      "Train and Test Pairs Created\n"
     ]
    },
    {
     "name": "stderr",
     "output_type": "stream",
     "text": [
      "WARNING:absl:You are saving your model as an HDF5 file via `model.save()` or `keras.saving.save_model(model)`. This file format is considered legacy. We recommend using instead the native Keras format, e.g. `model.save('my_model.keras')` or `keras.saving.save_model(model, 'my_model.keras')`. \n"
     ]
    },
    {
     "name": "stdout",
     "output_type": "stream",
     "text": [
      "Model Trained\n",
      "Model Saved\n",
      "\u001b[1m1/1\u001b[0m \u001b[32m━━━━━━━━━━━━━━━━━━━━\u001b[0m\u001b[37m\u001b[0m \u001b[1m0s\u001b[0m 33ms/step\n",
      "[1 0 1 0 0 0 1 0 0 0] [0 0 0 0 0 0 0 0 0 0]\n",
      "Test Loss: 0.2858961224555969\n",
      "Test Accuracy:  0.7\n",
      "Pairs Created\n",
      "Train and Test Pairs Created\n"
     ]
    },
    {
     "name": "stderr",
     "output_type": "stream",
     "text": [
      "WARNING:absl:You are saving your model as an HDF5 file via `model.save()` or `keras.saving.save_model(model)`. This file format is considered legacy. We recommend using instead the native Keras format, e.g. `model.save('my_model.keras')` or `keras.saving.save_model(model, 'my_model.keras')`. \n"
     ]
    },
    {
     "name": "stdout",
     "output_type": "stream",
     "text": [
      "Model Trained\n",
      "Model Saved\n",
      "\u001b[1m1/1\u001b[0m \u001b[32m━━━━━━━━━━━━━━━━━━━━\u001b[0m\u001b[37m\u001b[0m \u001b[1m0s\u001b[0m 36ms/step\n",
      "[0 0 0 0 0 0 0 0 0 0] [0 0 0 0 0 0 0 0 0 0]\n",
      "Test Loss: 3.8424754166044295e-05\n",
      "Test Accuracy:  1.0\n",
      "Pairs Created\n",
      "Train and Test Pairs Created\n"
     ]
    },
    {
     "name": "stderr",
     "output_type": "stream",
     "text": [
      "WARNING:absl:You are saving your model as an HDF5 file via `model.save()` or `keras.saving.save_model(model)`. This file format is considered legacy. We recommend using instead the native Keras format, e.g. `model.save('my_model.keras')` or `keras.saving.save_model(model, 'my_model.keras')`. \n"
     ]
    },
    {
     "name": "stdout",
     "output_type": "stream",
     "text": [
      "Model Trained\n",
      "Model Saved\n",
      "\u001b[1m1/1\u001b[0m \u001b[32m━━━━━━━━━━━━━━━━━━━━\u001b[0m\u001b[37m\u001b[0m \u001b[1m0s\u001b[0m 34ms/step\n",
      "[0 0 0 0 0 0 0 0 0 0] [0 0 0 0 0 0 0 0 0 0]\n",
      "Test Loss: 1.1746925210331938e-08\n",
      "Test Accuracy:  1.0\n",
      "Pairs Created\n",
      "Train and Test Pairs Created\n"
     ]
    },
    {
     "name": "stderr",
     "output_type": "stream",
     "text": [
      "WARNING:absl:You are saving your model as an HDF5 file via `model.save()` or `keras.saving.save_model(model)`. This file format is considered legacy. We recommend using instead the native Keras format, e.g. `model.save('my_model.keras')` or `keras.saving.save_model(model, 'my_model.keras')`. \n"
     ]
    },
    {
     "name": "stdout",
     "output_type": "stream",
     "text": [
      "Model Trained\n",
      "Model Saved\n",
      "\u001b[1m1/1\u001b[0m \u001b[32m━━━━━━━━━━━━━━━━━━━━\u001b[0m\u001b[37m\u001b[0m \u001b[1m0s\u001b[0m 38ms/step\n",
      "[0 0 0 0 0 0 0 0 0 0] [0 0 0 0 0 0 0 0 0 0]\n",
      "Test Loss: 1.0002154660071483e-08\n",
      "Test Accuracy:  1.0\n",
      "Features Loaded\n",
      "Features Split\n",
      "Pairs Created\n",
      "Train and Test Pairs Created\n"
     ]
    },
    {
     "name": "stderr",
     "output_type": "stream",
     "text": [
      "WARNING:absl:You are saving your model as an HDF5 file via `model.save()` or `keras.saving.save_model(model)`. This file format is considered legacy. We recommend using instead the native Keras format, e.g. `model.save('my_model.keras')` or `keras.saving.save_model(model, 'my_model.keras')`. \n"
     ]
    },
    {
     "name": "stdout",
     "output_type": "stream",
     "text": [
      "Model Trained\n",
      "Model Saved\n",
      "\u001b[1m1/1\u001b[0m \u001b[32m━━━━━━━━━━━━━━━━━━━━\u001b[0m\u001b[37m\u001b[0m \u001b[1m0s\u001b[0m 37ms/step\n",
      "[0 0 0 0 0 0 1 0 0 0] [0 0 0 0 0 0 0 0 0 0]\n",
      "Test Loss: 0.09990076720714569\n",
      "Test Accuracy:  0.9\n",
      "Pairs Created\n",
      "Train and Test Pairs Created\n"
     ]
    },
    {
     "name": "stderr",
     "output_type": "stream",
     "text": [
      "WARNING:absl:You are saving your model as an HDF5 file via `model.save()` or `keras.saving.save_model(model)`. This file format is considered legacy. We recommend using instead the native Keras format, e.g. `model.save('my_model.keras')` or `keras.saving.save_model(model, 'my_model.keras')`. \n"
     ]
    },
    {
     "name": "stdout",
     "output_type": "stream",
     "text": [
      "Model Trained\n",
      "Model Saved\n",
      "\u001b[1m1/1\u001b[0m \u001b[32m━━━━━━━━━━━━━━━━━━━━\u001b[0m\u001b[37m\u001b[0m \u001b[1m0s\u001b[0m 35ms/step\n",
      "[0 1 1 1 0 0 0 1 0 1] [0 0 0 0 0 0 0 0 0 0]\n",
      "Test Loss: 0.4912980794906616\n",
      "Test Accuracy:  0.5\n",
      "Pairs Created\n",
      "Train and Test Pairs Created\n"
     ]
    },
    {
     "name": "stderr",
     "output_type": "stream",
     "text": [
      "WARNING:absl:You are saving your model as an HDF5 file via `model.save()` or `keras.saving.save_model(model)`. This file format is considered legacy. We recommend using instead the native Keras format, e.g. `model.save('my_model.keras')` or `keras.saving.save_model(model, 'my_model.keras')`. \n"
     ]
    },
    {
     "name": "stdout",
     "output_type": "stream",
     "text": [
      "Model Trained\n",
      "Model Saved\n",
      "\u001b[1m1/1\u001b[0m \u001b[32m━━━━━━━━━━━━━━━━━━━━\u001b[0m\u001b[37m\u001b[0m \u001b[1m0s\u001b[0m 39ms/step\n",
      "[0 0 0 0 1 0 1 0 0 1] [0 0 0 0 0 0 0 0 0 0]\n",
      "Test Loss: 0.2874308228492737\n",
      "Test Accuracy:  0.7\n",
      "Pairs Created\n",
      "Train and Test Pairs Created\n"
     ]
    },
    {
     "name": "stderr",
     "output_type": "stream",
     "text": [
      "WARNING:absl:You are saving your model as an HDF5 file via `model.save()` or `keras.saving.save_model(model)`. This file format is considered legacy. We recommend using instead the native Keras format, e.g. `model.save('my_model.keras')` or `keras.saving.save_model(model, 'my_model.keras')`. \n"
     ]
    },
    {
     "name": "stdout",
     "output_type": "stream",
     "text": [
      "Model Trained\n",
      "Model Saved\n",
      "\u001b[1m1/1\u001b[0m \u001b[32m━━━━━━━━━━━━━━━━━━━━\u001b[0m\u001b[37m\u001b[0m \u001b[1m0s\u001b[0m 35ms/step\n",
      "[1 1 1 0 0 0 1 1 1 0] [0 0 0 0 0 0 0 0 0 0]\n",
      "Test Loss: 0.5791400074958801\n",
      "Test Accuracy:  0.4\n",
      "Pairs Created\n",
      "Train and Test Pairs Created\n"
     ]
    },
    {
     "name": "stderr",
     "output_type": "stream",
     "text": [
      "WARNING:absl:You are saving your model as an HDF5 file via `model.save()` or `keras.saving.save_model(model)`. This file format is considered legacy. We recommend using instead the native Keras format, e.g. `model.save('my_model.keras')` or `keras.saving.save_model(model, 'my_model.keras')`. \n"
     ]
    },
    {
     "name": "stdout",
     "output_type": "stream",
     "text": [
      "Model Trained\n",
      "Model Saved\n",
      "\u001b[1m1/1\u001b[0m \u001b[32m━━━━━━━━━━━━━━━━━━━━\u001b[0m\u001b[37m\u001b[0m \u001b[1m0s\u001b[0m 38ms/step\n",
      "[1 0 1 1 0 1 1 0 0 0] [0 0 0 0 0 0 0 0 0 0]\n",
      "Test Loss: 0.4852133095264435\n",
      "Test Accuracy:  0.5\n",
      "Pairs Created\n",
      "Train and Test Pairs Created\n"
     ]
    },
    {
     "name": "stderr",
     "output_type": "stream",
     "text": [
      "WARNING:absl:You are saving your model as an HDF5 file via `model.save()` or `keras.saving.save_model(model)`. This file format is considered legacy. We recommend using instead the native Keras format, e.g. `model.save('my_model.keras')` or `keras.saving.save_model(model, 'my_model.keras')`. \n"
     ]
    },
    {
     "name": "stdout",
     "output_type": "stream",
     "text": [
      "Model Trained\n",
      "Model Saved\n",
      "\u001b[1m1/1\u001b[0m \u001b[32m━━━━━━━━━━━━━━━━━━━━\u001b[0m\u001b[37m\u001b[0m \u001b[1m0s\u001b[0m 38ms/step\n",
      "[0 0 1 1 0 1 0 1 1 1] [0 0 0 0 0 0 0 0 0 0]\n",
      "Test Loss: 0.5821425318717957\n",
      "Test Accuracy:  0.4\n",
      "Pairs Created\n",
      "Train and Test Pairs Created\n"
     ]
    },
    {
     "name": "stderr",
     "output_type": "stream",
     "text": [
      "WARNING:absl:You are saving your model as an HDF5 file via `model.save()` or `keras.saving.save_model(model)`. This file format is considered legacy. We recommend using instead the native Keras format, e.g. `model.save('my_model.keras')` or `keras.saving.save_model(model, 'my_model.keras')`. \n"
     ]
    },
    {
     "name": "stdout",
     "output_type": "stream",
     "text": [
      "Model Trained\n",
      "Model Saved\n",
      "\u001b[1m1/1\u001b[0m \u001b[32m━━━━━━━━━━━━━━━━━━━━\u001b[0m\u001b[37m\u001b[0m \u001b[1m0s\u001b[0m 37ms/step\n",
      "[1 0 0 0 0 0 1 1 0 0] [0 0 0 0 0 0 0 0 0 0]\n",
      "Test Loss: 0.2964296340942383\n",
      "Test Accuracy:  0.7\n",
      "Pairs Created\n",
      "Train and Test Pairs Created\n"
     ]
    },
    {
     "name": "stderr",
     "output_type": "stream",
     "text": [
      "WARNING:absl:You are saving your model as an HDF5 file via `model.save()` or `keras.saving.save_model(model)`. This file format is considered legacy. We recommend using instead the native Keras format, e.g. `model.save('my_model.keras')` or `keras.saving.save_model(model, 'my_model.keras')`. \n"
     ]
    },
    {
     "name": "stdout",
     "output_type": "stream",
     "text": [
      "Model Trained\n",
      "Model Saved\n",
      "\u001b[1m1/1\u001b[0m \u001b[32m━━━━━━━━━━━━━━━━━━━━\u001b[0m\u001b[37m\u001b[0m \u001b[1m0s\u001b[0m 46ms/step\n",
      "[1 0 1 1 0 0 0 0 1 0] [0 0 0 0 0 0 0 0 0 0]\n",
      "Test Loss: 0.38547706604003906\n",
      "Test Accuracy:  0.6\n",
      "Pairs Created\n",
      "Train and Test Pairs Created\n"
     ]
    },
    {
     "name": "stderr",
     "output_type": "stream",
     "text": [
      "WARNING:absl:You are saving your model as an HDF5 file via `model.save()` or `keras.saving.save_model(model)`. This file format is considered legacy. We recommend using instead the native Keras format, e.g. `model.save('my_model.keras')` or `keras.saving.save_model(model, 'my_model.keras')`. \n"
     ]
    },
    {
     "name": "stdout",
     "output_type": "stream",
     "text": [
      "Model Trained\n",
      "Model Saved\n",
      "\u001b[1m1/1\u001b[0m \u001b[32m━━━━━━━━━━━━━━━━━━━━\u001b[0m\u001b[37m\u001b[0m \u001b[1m0s\u001b[0m 34ms/step\n",
      "[0 0 1 1 1 0 0 0 1 1] [0 0 0 0 0 0 0 0 0 0]\n",
      "Test Loss: 0.4607310891151428\n",
      "Test Accuracy:  0.5\n",
      "Pairs Created\n",
      "Train and Test Pairs Created\n"
     ]
    },
    {
     "name": "stderr",
     "output_type": "stream",
     "text": [
      "WARNING:absl:You are saving your model as an HDF5 file via `model.save()` or `keras.saving.save_model(model)`. This file format is considered legacy. We recommend using instead the native Keras format, e.g. `model.save('my_model.keras')` or `keras.saving.save_model(model, 'my_model.keras')`. \n"
     ]
    },
    {
     "name": "stdout",
     "output_type": "stream",
     "text": [
      "Model Trained\n",
      "Model Saved\n",
      "\u001b[1m1/1\u001b[0m \u001b[32m━━━━━━━━━━━━━━━━━━━━\u001b[0m\u001b[37m\u001b[0m \u001b[1m0s\u001b[0m 36ms/step\n",
      "[0 0 0 0 0 0 1 1 0 1] [0 0 0 0 0 0 0 0 0 0]\n",
      "Test Loss: 0.2948923408985138\n",
      "Test Accuracy:  0.7\n",
      "Features Loaded\n",
      "Features Split\n",
      "Pairs Created\n",
      "Train and Test Pairs Created\n"
     ]
    },
    {
     "name": "stderr",
     "output_type": "stream",
     "text": [
      "WARNING:absl:You are saving your model as an HDF5 file via `model.save()` or `keras.saving.save_model(model)`. This file format is considered legacy. We recommend using instead the native Keras format, e.g. `model.save('my_model.keras')` or `keras.saving.save_model(model, 'my_model.keras')`. \n"
     ]
    },
    {
     "name": "stdout",
     "output_type": "stream",
     "text": [
      "Model Trained\n",
      "Model Saved\n",
      "\u001b[1m1/1\u001b[0m \u001b[32m━━━━━━━━━━━━━━━━━━━━\u001b[0m\u001b[37m\u001b[0m \u001b[1m0s\u001b[0m 36ms/step\n",
      "[0 0 1 1 1 1 1 0 0 1] [0 0 0 0 0 0 0 0 0 0]\n",
      "Test Loss: 0.587472140789032\n",
      "Test Accuracy:  0.4\n",
      "Pairs Created\n",
      "Train and Test Pairs Created\n"
     ]
    },
    {
     "name": "stderr",
     "output_type": "stream",
     "text": [
      "WARNING:absl:You are saving your model as an HDF5 file via `model.save()` or `keras.saving.save_model(model)`. This file format is considered legacy. We recommend using instead the native Keras format, e.g. `model.save('my_model.keras')` or `keras.saving.save_model(model, 'my_model.keras')`. \n"
     ]
    },
    {
     "name": "stdout",
     "output_type": "stream",
     "text": [
      "Model Trained\n",
      "Model Saved\n",
      "\u001b[1m1/1\u001b[0m \u001b[32m━━━━━━━━━━━━━━━━━━━━\u001b[0m\u001b[37m\u001b[0m \u001b[1m0s\u001b[0m 35ms/step\n",
      "[1 0 0 0 1 1 0 1 1 1] [0 0 0 0 0 0 0 0 0 0]\n",
      "Test Loss: 0.594140350818634\n",
      "Test Accuracy:  0.4\n",
      "Pairs Created\n",
      "Train and Test Pairs Created\n"
     ]
    },
    {
     "name": "stderr",
     "output_type": "stream",
     "text": [
      "WARNING:absl:You are saving your model as an HDF5 file via `model.save()` or `keras.saving.save_model(model)`. This file format is considered legacy. We recommend using instead the native Keras format, e.g. `model.save('my_model.keras')` or `keras.saving.save_model(model, 'my_model.keras')`. \n"
     ]
    },
    {
     "name": "stdout",
     "output_type": "stream",
     "text": [
      "Model Trained\n",
      "Model Saved\n",
      "\u001b[1m1/1\u001b[0m \u001b[32m━━━━━━━━━━━━━━━━━━━━\u001b[0m\u001b[37m\u001b[0m \u001b[1m0s\u001b[0m 36ms/step\n",
      "[0 0 1 1 1 0 1 0 1 1] [0 0 0 0 0 0 0 0 0 0]\n",
      "Test Loss: 0.5729221105575562\n",
      "Test Accuracy:  0.4\n",
      "Pairs Created\n",
      "Train and Test Pairs Created\n"
     ]
    },
    {
     "name": "stderr",
     "output_type": "stream",
     "text": [
      "WARNING:absl:You are saving your model as an HDF5 file via `model.save()` or `keras.saving.save_model(model)`. This file format is considered legacy. We recommend using instead the native Keras format, e.g. `model.save('my_model.keras')` or `keras.saving.save_model(model, 'my_model.keras')`. \n"
     ]
    },
    {
     "name": "stdout",
     "output_type": "stream",
     "text": [
      "Model Trained\n",
      "Model Saved\n",
      "\u001b[1m1/1\u001b[0m \u001b[32m━━━━━━━━━━━━━━━━━━━━\u001b[0m\u001b[37m\u001b[0m \u001b[1m0s\u001b[0m 35ms/step\n",
      "[0 0 0 1 0 1 0 1 1 1] [0 0 0 0 0 0 0 0 0 0]\n",
      "Test Loss: 0.4921199679374695\n",
      "Test Accuracy:  0.5\n",
      "Pairs Created\n",
      "Train and Test Pairs Created\n"
     ]
    },
    {
     "name": "stderr",
     "output_type": "stream",
     "text": [
      "WARNING:absl:You are saving your model as an HDF5 file via `model.save()` or `keras.saving.save_model(model)`. This file format is considered legacy. We recommend using instead the native Keras format, e.g. `model.save('my_model.keras')` or `keras.saving.save_model(model, 'my_model.keras')`. \n"
     ]
    },
    {
     "name": "stdout",
     "output_type": "stream",
     "text": [
      "Model Trained\n",
      "Model Saved\n",
      "\u001b[1m1/1\u001b[0m \u001b[32m━━━━━━━━━━━━━━━━━━━━\u001b[0m\u001b[37m\u001b[0m \u001b[1m0s\u001b[0m 35ms/step\n",
      "[1 1 1 1 1 1 0 1 1 1] [0 0 0 0 0 0 0 0 0 0]\n",
      "Test Loss: 0.8976778984069824\n",
      "Test Accuracy:  0.1\n",
      "Pairs Created\n",
      "Train and Test Pairs Created\n"
     ]
    },
    {
     "name": "stderr",
     "output_type": "stream",
     "text": [
      "WARNING:absl:You are saving your model as an HDF5 file via `model.save()` or `keras.saving.save_model(model)`. This file format is considered legacy. We recommend using instead the native Keras format, e.g. `model.save('my_model.keras')` or `keras.saving.save_model(model, 'my_model.keras')`. \n"
     ]
    },
    {
     "name": "stdout",
     "output_type": "stream",
     "text": [
      "Model Trained\n",
      "Model Saved\n",
      "\u001b[1m1/1\u001b[0m \u001b[32m━━━━━━━━━━━━━━━━━━━━\u001b[0m\u001b[37m\u001b[0m \u001b[1m0s\u001b[0m 34ms/step\n",
      "[1 1 0 1 0 1 0 0 1 1] [0 0 0 0 0 0 0 0 0 0]\n",
      "Test Loss: 0.5958747863769531\n",
      "Test Accuracy:  0.4\n",
      "Pairs Created\n",
      "Train and Test Pairs Created\n"
     ]
    },
    {
     "name": "stderr",
     "output_type": "stream",
     "text": [
      "WARNING:absl:You are saving your model as an HDF5 file via `model.save()` or `keras.saving.save_model(model)`. This file format is considered legacy. We recommend using instead the native Keras format, e.g. `model.save('my_model.keras')` or `keras.saving.save_model(model, 'my_model.keras')`. \n"
     ]
    },
    {
     "name": "stdout",
     "output_type": "stream",
     "text": [
      "Model Trained\n",
      "Model Saved\n",
      "\u001b[1m1/1\u001b[0m \u001b[32m━━━━━━━━━━━━━━━━━━━━\u001b[0m\u001b[37m\u001b[0m \u001b[1m0s\u001b[0m 36ms/step\n",
      "[0 0 0 0 1 1 0 0 0 0] [0 0 0 0 0 0 0 0 0 0]\n",
      "Test Loss: 0.199209064245224\n",
      "Test Accuracy:  0.8\n",
      "Pairs Created\n",
      "Train and Test Pairs Created\n"
     ]
    },
    {
     "name": "stderr",
     "output_type": "stream",
     "text": [
      "WARNING:absl:You are saving your model as an HDF5 file via `model.save()` or `keras.saving.save_model(model)`. This file format is considered legacy. We recommend using instead the native Keras format, e.g. `model.save('my_model.keras')` or `keras.saving.save_model(model, 'my_model.keras')`. \n"
     ]
    },
    {
     "name": "stdout",
     "output_type": "stream",
     "text": [
      "Model Trained\n",
      "Model Saved\n",
      "\u001b[1m1/1\u001b[0m \u001b[32m━━━━━━━━━━━━━━━━━━━━\u001b[0m\u001b[37m\u001b[0m \u001b[1m0s\u001b[0m 36ms/step\n",
      "[0 1 0 1 0 1 1 1 0 0] [0 0 0 0 0 0 0 0 0 0]\n",
      "Test Loss: 0.49551817774772644\n",
      "Test Accuracy:  0.5\n",
      "Pairs Created\n",
      "Train and Test Pairs Created\n"
     ]
    },
    {
     "name": "stderr",
     "output_type": "stream",
     "text": [
      "WARNING:absl:You are saving your model as an HDF5 file via `model.save()` or `keras.saving.save_model(model)`. This file format is considered legacy. We recommend using instead the native Keras format, e.g. `model.save('my_model.keras')` or `keras.saving.save_model(model, 'my_model.keras')`. \n"
     ]
    },
    {
     "name": "stdout",
     "output_type": "stream",
     "text": [
      "Model Trained\n",
      "Model Saved\n",
      "\u001b[1m1/1\u001b[0m \u001b[32m━━━━━━━━━━━━━━━━━━━━\u001b[0m\u001b[37m\u001b[0m \u001b[1m0s\u001b[0m 35ms/step\n",
      "[1 0 1 1 0 0 1 1 1 1] [0 0 0 0 0 1 0 0 0 1]\n",
      "Test Loss: 0.6132447719573975\n",
      "Test Accuracy:  0.3\n",
      "Pairs Created\n",
      "Train and Test Pairs Created\n"
     ]
    },
    {
     "name": "stderr",
     "output_type": "stream",
     "text": [
      "WARNING:absl:You are saving your model as an HDF5 file via `model.save()` or `keras.saving.save_model(model)`. This file format is considered legacy. We recommend using instead the native Keras format, e.g. `model.save('my_model.keras')` or `keras.saving.save_model(model, 'my_model.keras')`. \n"
     ]
    },
    {
     "name": "stdout",
     "output_type": "stream",
     "text": [
      "Model Trained\n",
      "Model Saved\n",
      "\u001b[1m1/1\u001b[0m \u001b[32m━━━━━━━━━━━━━━━━━━━━\u001b[0m\u001b[37m\u001b[0m \u001b[1m0s\u001b[0m 35ms/step\n",
      "[0 0 0 0 0 0 0 0 0 0] [0 0 0 0 0 0 0 0 0 0]\n",
      "Test Loss: 2.098324102917104e-06\n",
      "Test Accuracy:  1.0\n",
      "Features Loaded\n",
      "Features Split\n",
      "Pairs Created\n",
      "Train and Test Pairs Created\n"
     ]
    },
    {
     "name": "stderr",
     "output_type": "stream",
     "text": [
      "WARNING:absl:You are saving your model as an HDF5 file via `model.save()` or `keras.saving.save_model(model)`. This file format is considered legacy. We recommend using instead the native Keras format, e.g. `model.save('my_model.keras')` or `keras.saving.save_model(model, 'my_model.keras')`. \n"
     ]
    },
    {
     "name": "stdout",
     "output_type": "stream",
     "text": [
      "Model Trained\n",
      "Model Saved\n",
      "\u001b[1m1/1\u001b[0m \u001b[32m━━━━━━━━━━━━━━━━━━━━\u001b[0m\u001b[37m\u001b[0m \u001b[1m0s\u001b[0m 45ms/step\n",
      "[0 0 0 0 0 0 0 0 0 0] [1 1 0 0 1 1 1 0 1 0]\n",
      "Test Loss: 0.013200724497437477\n",
      "Test Accuracy:  0.4\n",
      "Pairs Created\n",
      "Train and Test Pairs Created\n"
     ]
    },
    {
     "name": "stderr",
     "output_type": "stream",
     "text": [
      "WARNING:absl:You are saving your model as an HDF5 file via `model.save()` or `keras.saving.save_model(model)`. This file format is considered legacy. We recommend using instead the native Keras format, e.g. `model.save('my_model.keras')` or `keras.saving.save_model(model, 'my_model.keras')`. \n"
     ]
    },
    {
     "name": "stdout",
     "output_type": "stream",
     "text": [
      "Model Trained\n",
      "Model Saved\n",
      "\u001b[1m1/1\u001b[0m \u001b[32m━━━━━━━━━━━━━━━━━━━━\u001b[0m\u001b[37m\u001b[0m \u001b[1m0s\u001b[0m 37ms/step\n",
      "[0 0 0 0 0 0 1 0 1 0] [1 1 0 0 1 1 1 1 1 1]\n",
      "Test Loss: 0.17522254586219788\n",
      "Test Accuracy:  0.4\n",
      "Pairs Created\n",
      "Train and Test Pairs Created\n"
     ]
    },
    {
     "name": "stderr",
     "output_type": "stream",
     "text": [
      "WARNING:absl:You are saving your model as an HDF5 file via `model.save()` or `keras.saving.save_model(model)`. This file format is considered legacy. We recommend using instead the native Keras format, e.g. `model.save('my_model.keras')` or `keras.saving.save_model(model, 'my_model.keras')`. \n"
     ]
    },
    {
     "name": "stdout",
     "output_type": "stream",
     "text": [
      "Model Trained\n",
      "Model Saved\n",
      "\u001b[1m1/1\u001b[0m \u001b[32m━━━━━━━━━━━━━━━━━━━━\u001b[0m\u001b[37m\u001b[0m \u001b[1m0s\u001b[0m 34ms/step\n",
      "[0 1 0 1 1 1 0 1 1 1] [1 1 1 1 1 0 1 1 1 1]\n",
      "Test Loss: 0.47528892755508423\n",
      "Test Accuracy:  0.6\n",
      "Pairs Created\n",
      "Train and Test Pairs Created\n"
     ]
    },
    {
     "name": "stderr",
     "output_type": "stream",
     "text": [
      "WARNING:absl:You are saving your model as an HDF5 file via `model.save()` or `keras.saving.save_model(model)`. This file format is considered legacy. We recommend using instead the native Keras format, e.g. `model.save('my_model.keras')` or `keras.saving.save_model(model, 'my_model.keras')`. \n"
     ]
    },
    {
     "name": "stdout",
     "output_type": "stream",
     "text": [
      "Model Trained\n",
      "Model Saved\n",
      "\u001b[1m1/1\u001b[0m \u001b[32m━━━━━━━━━━━━━━━━━━━━\u001b[0m\u001b[37m\u001b[0m \u001b[1m0s\u001b[0m 40ms/step\n",
      "[0 1 0 0 0 0 0 1 1 1] [0 1 0 0 0 0 0 1 0 1]\n",
      "Test Loss: 0.344888836145401\n",
      "Test Accuracy:  0.9\n",
      "Pairs Created\n",
      "Train and Test Pairs Created\n"
     ]
    },
    {
     "name": "stderr",
     "output_type": "stream",
     "text": [
      "WARNING:absl:You are saving your model as an HDF5 file via `model.save()` or `keras.saving.save_model(model)`. This file format is considered legacy. We recommend using instead the native Keras format, e.g. `model.save('my_model.keras')` or `keras.saving.save_model(model, 'my_model.keras')`. \n"
     ]
    },
    {
     "name": "stdout",
     "output_type": "stream",
     "text": [
      "Model Trained\n",
      "Model Saved\n",
      "\u001b[1m1/1\u001b[0m \u001b[32m━━━━━━━━━━━━━━━━━━━━\u001b[0m\u001b[37m\u001b[0m \u001b[1m0s\u001b[0m 36ms/step\n",
      "[0 0 0 1 0 1 1 0 0 0] [0 1 0 1 0 0 0 0 0 0]\n",
      "Test Loss: 0.26760756969451904\n",
      "Test Accuracy:  0.7\n",
      "Pairs Created\n",
      "Train and Test Pairs Created\n"
     ]
    },
    {
     "name": "stderr",
     "output_type": "stream",
     "text": [
      "WARNING:absl:You are saving your model as an HDF5 file via `model.save()` or `keras.saving.save_model(model)`. This file format is considered legacy. We recommend using instead the native Keras format, e.g. `model.save('my_model.keras')` or `keras.saving.save_model(model, 'my_model.keras')`. \n"
     ]
    },
    {
     "name": "stdout",
     "output_type": "stream",
     "text": [
      "Model Trained\n",
      "Model Saved\n",
      "\u001b[1m1/1\u001b[0m \u001b[32m━━━━━━━━━━━━━━━━━━━━\u001b[0m\u001b[37m\u001b[0m \u001b[1m0s\u001b[0m 36ms/step\n",
      "[1 1 1 1 1 0 1 0 1 0] [1 1 1 1 1 0 1 0 0 0]\n",
      "Test Loss: 0.5517911314964294\n",
      "Test Accuracy:  0.9\n",
      "Pairs Created\n",
      "Train and Test Pairs Created\n"
     ]
    },
    {
     "name": "stderr",
     "output_type": "stream",
     "text": [
      "WARNING:absl:You are saving your model as an HDF5 file via `model.save()` or `keras.saving.save_model(model)`. This file format is considered legacy. We recommend using instead the native Keras format, e.g. `model.save('my_model.keras')` or `keras.saving.save_model(model, 'my_model.keras')`. \n"
     ]
    },
    {
     "name": "stdout",
     "output_type": "stream",
     "text": [
      "Model Trained\n",
      "Model Saved\n",
      "\u001b[1m1/1\u001b[0m \u001b[32m━━━━━━━━━━━━━━━━━━━━\u001b[0m\u001b[37m\u001b[0m \u001b[1m0s\u001b[0m 35ms/step\n",
      "[0 0 0 1 0 0 0 0 0 1] [0 0 0 0 0 0 0 0 0 0]\n",
      "Test Loss: 0.1815406084060669\n",
      "Test Accuracy:  0.8\n",
      "Pairs Created\n",
      "Train and Test Pairs Created\n"
     ]
    },
    {
     "name": "stderr",
     "output_type": "stream",
     "text": [
      "WARNING:absl:You are saving your model as an HDF5 file via `model.save()` or `keras.saving.save_model(model)`. This file format is considered legacy. We recommend using instead the native Keras format, e.g. `model.save('my_model.keras')` or `keras.saving.save_model(model, 'my_model.keras')`. \n"
     ]
    },
    {
     "name": "stdout",
     "output_type": "stream",
     "text": [
      "Model Trained\n",
      "Model Saved\n",
      "\u001b[1m1/1\u001b[0m \u001b[32m━━━━━━━━━━━━━━━━━━━━\u001b[0m\u001b[37m\u001b[0m \u001b[1m0s\u001b[0m 35ms/step\n",
      "[1 0 1 1 1 0 0 1 0 1] [1 0 1 1 1 0 0 1 1 1]\n",
      "Test Loss: 0.44980698823928833\n",
      "Test Accuracy:  0.9\n",
      "Pairs Created\n",
      "Train and Test Pairs Created\n"
     ]
    },
    {
     "name": "stderr",
     "output_type": "stream",
     "text": [
      "WARNING:absl:You are saving your model as an HDF5 file via `model.save()` or `keras.saving.save_model(model)`. This file format is considered legacy. We recommend using instead the native Keras format, e.g. `model.save('my_model.keras')` or `keras.saving.save_model(model, 'my_model.keras')`. \n"
     ]
    },
    {
     "name": "stdout",
     "output_type": "stream",
     "text": [
      "Model Trained\n",
      "Model Saved\n",
      "\u001b[1m1/1\u001b[0m \u001b[32m━━━━━━━━━━━━━━━━━━━━\u001b[0m\u001b[37m\u001b[0m \u001b[1m0s\u001b[0m 37ms/step\n",
      "[0 1 1 1 1 0 1 1 0 1] [1 1 0 1 0 0 1 1 0 1]\n",
      "Test Loss: 0.5325687527656555\n",
      "Test Accuracy:  0.7\n",
      "Pairs Created\n",
      "Train and Test Pairs Created\n"
     ]
    },
    {
     "name": "stderr",
     "output_type": "stream",
     "text": [
      "WARNING:absl:You are saving your model as an HDF5 file via `model.save()` or `keras.saving.save_model(model)`. This file format is considered legacy. We recommend using instead the native Keras format, e.g. `model.save('my_model.keras')` or `keras.saving.save_model(model, 'my_model.keras')`. \n"
     ]
    },
    {
     "name": "stdout",
     "output_type": "stream",
     "text": [
      "Model Trained\n",
      "Model Saved\n",
      "\u001b[1m1/1\u001b[0m \u001b[32m━━━━━━━━━━━━━━━━━━━━\u001b[0m\u001b[37m\u001b[0m \u001b[1m0s\u001b[0m 35ms/step\n",
      "[0 0 0 0 0 0 0 0 0 0] [0 0 0 0 0 0 0 0 0 0]\n",
      "Test Loss: 0.001791460206732154\n",
      "Test Accuracy:  1.0\n",
      "Features Loaded\n",
      "Features Split\n",
      "Pairs Created\n",
      "Train and Test Pairs Created\n"
     ]
    },
    {
     "name": "stderr",
     "output_type": "stream",
     "text": [
      "WARNING:absl:You are saving your model as an HDF5 file via `model.save()` or `keras.saving.save_model(model)`. This file format is considered legacy. We recommend using instead the native Keras format, e.g. `model.save('my_model.keras')` or `keras.saving.save_model(model, 'my_model.keras')`. \n"
     ]
    },
    {
     "name": "stdout",
     "output_type": "stream",
     "text": [
      "Model Trained\n",
      "Model Saved\n",
      "\u001b[1m1/1\u001b[0m \u001b[32m━━━━━━━━━━━━━━━━━━━━\u001b[0m\u001b[37m\u001b[0m \u001b[1m0s\u001b[0m 36ms/step\n",
      "[0 0 0 1 1 1 1 1 1 0] [1 1 1 1 1 0 1 0 1 1]\n",
      "Test Loss: 0.453169047832489\n",
      "Test Accuracy:  0.4\n",
      "Pairs Created\n",
      "Train and Test Pairs Created\n"
     ]
    },
    {
     "name": "stderr",
     "output_type": "stream",
     "text": [
      "WARNING:absl:You are saving your model as an HDF5 file via `model.save()` or `keras.saving.save_model(model)`. This file format is considered legacy. We recommend using instead the native Keras format, e.g. `model.save('my_model.keras')` or `keras.saving.save_model(model, 'my_model.keras')`. \n"
     ]
    },
    {
     "name": "stdout",
     "output_type": "stream",
     "text": [
      "Model Trained\n",
      "Model Saved\n",
      "\u001b[1m1/1\u001b[0m \u001b[32m━━━━━━━━━━━━━━━━━━━━\u001b[0m\u001b[37m\u001b[0m \u001b[1m0s\u001b[0m 35ms/step\n",
      "[0 0 1 0 0 0 0 0 1 0] [1 1 1 1 1 1 1 1 0 1]\n",
      "Test Loss: 0.16767127811908722\n",
      "Test Accuracy:  0.1\n",
      "Pairs Created\n",
      "Train and Test Pairs Created\n"
     ]
    },
    {
     "name": "stderr",
     "output_type": "stream",
     "text": [
      "WARNING:absl:You are saving your model as an HDF5 file via `model.save()` or `keras.saving.save_model(model)`. This file format is considered legacy. We recommend using instead the native Keras format, e.g. `model.save('my_model.keras')` or `keras.saving.save_model(model, 'my_model.keras')`. \n"
     ]
    },
    {
     "name": "stdout",
     "output_type": "stream",
     "text": [
      "Model Trained\n",
      "Model Saved\n",
      "\u001b[1m1/1\u001b[0m \u001b[32m━━━━━━━━━━━━━━━━━━━━\u001b[0m\u001b[37m\u001b[0m \u001b[1m0s\u001b[0m 35ms/step\n",
      "[0 1 0 1 1 1 1 1 0 0] [1 1 1 1 1 1 1 1 1 1]\n",
      "Test Loss: 0.37567847967147827\n",
      "Test Accuracy:  0.6\n",
      "Pairs Created\n",
      "Train and Test Pairs Created\n"
     ]
    },
    {
     "name": "stderr",
     "output_type": "stream",
     "text": [
      "WARNING:absl:You are saving your model as an HDF5 file via `model.save()` or `keras.saving.save_model(model)`. This file format is considered legacy. We recommend using instead the native Keras format, e.g. `model.save('my_model.keras')` or `keras.saving.save_model(model, 'my_model.keras')`. \n"
     ]
    },
    {
     "name": "stdout",
     "output_type": "stream",
     "text": [
      "Model Trained\n",
      "Model Saved\n",
      "\u001b[1m1/1\u001b[0m \u001b[32m━━━━━━━━━━━━━━━━━━━━\u001b[0m\u001b[37m\u001b[0m \u001b[1m0s\u001b[0m 35ms/step\n",
      "[0 0 0 0 1 0 1 0 1 0] [0 1 0 1 1 1 1 1 1 0]\n",
      "Test Loss: 0.2457645833492279\n",
      "Test Accuracy:  0.6\n",
      "Pairs Created\n",
      "Train and Test Pairs Created\n"
     ]
    },
    {
     "name": "stderr",
     "output_type": "stream",
     "text": [
      "WARNING:absl:You are saving your model as an HDF5 file via `model.save()` or `keras.saving.save_model(model)`. This file format is considered legacy. We recommend using instead the native Keras format, e.g. `model.save('my_model.keras')` or `keras.saving.save_model(model, 'my_model.keras')`. \n"
     ]
    },
    {
     "name": "stdout",
     "output_type": "stream",
     "text": [
      "Model Trained\n",
      "Model Saved\n",
      "\u001b[1m1/1\u001b[0m \u001b[32m━━━━━━━━━━━━━━━━━━━━\u001b[0m\u001b[37m\u001b[0m \u001b[1m0s\u001b[0m 33ms/step\n",
      "[0 0 0 0 0 0 0 0 0 0] [0 0 0 0 0 0 0 0 0 0]\n",
      "Test Loss: 4.5293681978364475e-06\n",
      "Test Accuracy:  1.0\n",
      "Pairs Created\n",
      "Train and Test Pairs Created\n"
     ]
    },
    {
     "name": "stderr",
     "output_type": "stream",
     "text": [
      "WARNING:absl:You are saving your model as an HDF5 file via `model.save()` or `keras.saving.save_model(model)`. This file format is considered legacy. We recommend using instead the native Keras format, e.g. `model.save('my_model.keras')` or `keras.saving.save_model(model, 'my_model.keras')`. \n"
     ]
    },
    {
     "name": "stdout",
     "output_type": "stream",
     "text": [
      "Model Trained\n",
      "Model Saved\n",
      "\u001b[1m1/1\u001b[0m \u001b[32m━━━━━━━━━━━━━━━━━━━━\u001b[0m\u001b[37m\u001b[0m \u001b[1m0s\u001b[0m 33ms/step\n",
      "[0 1 0 1 0 0 0 1 0 0] [1 1 0 0 0 1 0 1 0 0]\n",
      "Test Loss: 0.2495831698179245\n",
      "Test Accuracy:  0.7\n",
      "Pairs Created\n",
      "Train and Test Pairs Created\n"
     ]
    },
    {
     "name": "stderr",
     "output_type": "stream",
     "text": [
      "WARNING:absl:You are saving your model as an HDF5 file via `model.save()` or `keras.saving.save_model(model)`. This file format is considered legacy. We recommend using instead the native Keras format, e.g. `model.save('my_model.keras')` or `keras.saving.save_model(model, 'my_model.keras')`. \n"
     ]
    },
    {
     "name": "stdout",
     "output_type": "stream",
     "text": [
      "Model Trained\n",
      "Model Saved\n",
      "\u001b[1m1/1\u001b[0m \u001b[32m━━━━━━━━━━━━━━━━━━━━\u001b[0m\u001b[37m\u001b[0m \u001b[1m0s\u001b[0m 37ms/step\n",
      "[1 1 0 0 0 1 0 0 1 1] [0 1 1 0 1 0 0 1 0 0]\n",
      "Test Loss: 0.40538275241851807\n",
      "Test Accuracy:  0.3\n",
      "Pairs Created\n",
      "Train and Test Pairs Created\n"
     ]
    },
    {
     "name": "stderr",
     "output_type": "stream",
     "text": [
      "WARNING:absl:You are saving your model as an HDF5 file via `model.save()` or `keras.saving.save_model(model)`. This file format is considered legacy. We recommend using instead the native Keras format, e.g. `model.save('my_model.keras')` or `keras.saving.save_model(model, 'my_model.keras')`. \n"
     ]
    },
    {
     "name": "stdout",
     "output_type": "stream",
     "text": [
      "Model Trained\n",
      "Model Saved\n",
      "\u001b[1m1/1\u001b[0m \u001b[32m━━━━━━━━━━━━━━━━━━━━\u001b[0m\u001b[37m\u001b[0m \u001b[1m0s\u001b[0m 38ms/step\n",
      "[0 0 0 1 0 0 1 0 0 0] [0 0 1 1 0 0 1 0 0 0]\n",
      "Test Loss: 0.17596551775932312\n",
      "Test Accuracy:  0.9\n",
      "Pairs Created\n",
      "Train and Test Pairs Created\n"
     ]
    },
    {
     "name": "stderr",
     "output_type": "stream",
     "text": [
      "WARNING:absl:You are saving your model as an HDF5 file via `model.save()` or `keras.saving.save_model(model)`. This file format is considered legacy. We recommend using instead the native Keras format, e.g. `model.save('my_model.keras')` or `keras.saving.save_model(model, 'my_model.keras')`. \n"
     ]
    },
    {
     "name": "stdout",
     "output_type": "stream",
     "text": [
      "Model Trained\n",
      "Model Saved\n",
      "\u001b[1m1/1\u001b[0m \u001b[32m━━━━━━━━━━━━━━━━━━━━\u001b[0m\u001b[37m\u001b[0m \u001b[1m0s\u001b[0m 44ms/step\n",
      "[1 1 0 1 1 1 0 0 1 0] [0 0 0 0 1 0 0 0 0 0]\n",
      "Test Loss: 0.5298795104026794\n",
      "Test Accuracy:  0.5\n",
      "Pairs Created\n",
      "Train and Test Pairs Created\n"
     ]
    },
    {
     "name": "stderr",
     "output_type": "stream",
     "text": [
      "WARNING:absl:You are saving your model as an HDF5 file via `model.save()` or `keras.saving.save_model(model)`. This file format is considered legacy. We recommend using instead the native Keras format, e.g. `model.save('my_model.keras')` or `keras.saving.save_model(model, 'my_model.keras')`. \n"
     ]
    },
    {
     "name": "stdout",
     "output_type": "stream",
     "text": [
      "Model Trained\n",
      "Model Saved\n",
      "\u001b[1m1/1\u001b[0m \u001b[32m━━━━━━━━━━━━━━━━━━━━\u001b[0m\u001b[37m\u001b[0m \u001b[1m0s\u001b[0m 35ms/step\n",
      "[1 1 0 1 1 0 0 1 0 1] [1 1 0 1 1 0 1 1 0 1]\n",
      "Test Loss: 0.4862639904022217\n",
      "Test Accuracy:  0.9\n",
      "Features Loaded\n",
      "Features Split\n",
      "Pairs Created\n",
      "Train and Test Pairs Created\n"
     ]
    },
    {
     "name": "stderr",
     "output_type": "stream",
     "text": [
      "WARNING:absl:You are saving your model as an HDF5 file via `model.save()` or `keras.saving.save_model(model)`. This file format is considered legacy. We recommend using instead the native Keras format, e.g. `model.save('my_model.keras')` or `keras.saving.save_model(model, 'my_model.keras')`. \n"
     ]
    },
    {
     "name": "stdout",
     "output_type": "stream",
     "text": [
      "Model Trained\n",
      "Model Saved\n",
      "\u001b[1m1/1\u001b[0m \u001b[32m━━━━━━━━━━━━━━━━━━━━\u001b[0m\u001b[37m\u001b[0m \u001b[1m0s\u001b[0m 36ms/step\n",
      "[0 0 0 0 0 0 0 0 0 0] [0 0 0 0 0 0 0 0 0 0]\n",
      "Test Loss: 1.664193405304104e-06\n",
      "Test Accuracy:  1.0\n",
      "Pairs Created\n",
      "Train and Test Pairs Created\n"
     ]
    },
    {
     "name": "stderr",
     "output_type": "stream",
     "text": [
      "WARNING:absl:You are saving your model as an HDF5 file via `model.save()` or `keras.saving.save_model(model)`. This file format is considered legacy. We recommend using instead the native Keras format, e.g. `model.save('my_model.keras')` or `keras.saving.save_model(model, 'my_model.keras')`. \n"
     ]
    },
    {
     "name": "stdout",
     "output_type": "stream",
     "text": [
      "Model Trained\n",
      "Model Saved\n",
      "\u001b[1m1/1\u001b[0m \u001b[32m━━━━━━━━━━━━━━━━━━━━\u001b[0m\u001b[37m\u001b[0m \u001b[1m0s\u001b[0m 36ms/step\n",
      "[1 0 1 0 1 1 0 0 0 0] [0 0 0 0 0 0 0 0 0 0]\n",
      "Test Loss: 0.39329051971435547\n",
      "Test Accuracy:  0.6\n",
      "Pairs Created\n",
      "Train and Test Pairs Created\n"
     ]
    },
    {
     "name": "stderr",
     "output_type": "stream",
     "text": [
      "WARNING:absl:You are saving your model as an HDF5 file via `model.save()` or `keras.saving.save_model(model)`. This file format is considered legacy. We recommend using instead the native Keras format, e.g. `model.save('my_model.keras')` or `keras.saving.save_model(model, 'my_model.keras')`. \n"
     ]
    },
    {
     "name": "stdout",
     "output_type": "stream",
     "text": [
      "Model Trained\n",
      "Model Saved\n",
      "\u001b[1m1/1\u001b[0m \u001b[32m━━━━━━━━━━━━━━━━━━━━\u001b[0m\u001b[37m\u001b[0m \u001b[1m0s\u001b[0m 36ms/step\n",
      "[0 0 0 0 0 1 0 0 1 1] [0 0 0 0 0 0 0 0 0 0]\n",
      "Test Loss: 0.274039089679718\n",
      "Test Accuracy:  0.7\n",
      "Pairs Created\n",
      "Train and Test Pairs Created\n"
     ]
    },
    {
     "name": "stderr",
     "output_type": "stream",
     "text": [
      "WARNING:absl:You are saving your model as an HDF5 file via `model.save()` or `keras.saving.save_model(model)`. This file format is considered legacy. We recommend using instead the native Keras format, e.g. `model.save('my_model.keras')` or `keras.saving.save_model(model, 'my_model.keras')`. \n"
     ]
    },
    {
     "name": "stdout",
     "output_type": "stream",
     "text": [
      "Model Trained\n",
      "Model Saved\n",
      "\u001b[1m1/1\u001b[0m \u001b[32m━━━━━━━━━━━━━━━━━━━━\u001b[0m\u001b[37m\u001b[0m \u001b[1m0s\u001b[0m 36ms/step\n",
      "[1 0 1 0 0 0 1 0 0 1] [0 0 0 0 0 0 0 0 0 0]\n",
      "Test Loss: 0.36665669083595276\n",
      "Test Accuracy:  0.6\n",
      "Pairs Created\n",
      "Train and Test Pairs Created\n"
     ]
    },
    {
     "name": "stderr",
     "output_type": "stream",
     "text": [
      "WARNING:absl:You are saving your model as an HDF5 file via `model.save()` or `keras.saving.save_model(model)`. This file format is considered legacy. We recommend using instead the native Keras format, e.g. `model.save('my_model.keras')` or `keras.saving.save_model(model, 'my_model.keras')`. \n"
     ]
    },
    {
     "name": "stdout",
     "output_type": "stream",
     "text": [
      "Model Trained\n",
      "Model Saved\n",
      "\u001b[1m1/1\u001b[0m \u001b[32m━━━━━━━━━━━━━━━━━━━━\u001b[0m\u001b[37m\u001b[0m \u001b[1m0s\u001b[0m 35ms/step\n",
      "[0 0 1 0 1 1 1 0 1 0] [0 0 0 0 0 0 0 0 0 0]\n",
      "Test Loss: 0.4585384130477905\n",
      "Test Accuracy:  0.5\n",
      "Pairs Created\n",
      "Train and Test Pairs Created\n"
     ]
    },
    {
     "name": "stderr",
     "output_type": "stream",
     "text": [
      "WARNING:absl:You are saving your model as an HDF5 file via `model.save()` or `keras.saving.save_model(model)`. This file format is considered legacy. We recommend using instead the native Keras format, e.g. `model.save('my_model.keras')` or `keras.saving.save_model(model, 'my_model.keras')`. \n"
     ]
    },
    {
     "name": "stdout",
     "output_type": "stream",
     "text": [
      "Model Trained\n",
      "Model Saved\n",
      "\u001b[1m1/1\u001b[0m \u001b[32m━━━━━━━━━━━━━━━━━━━━\u001b[0m\u001b[37m\u001b[0m \u001b[1m0s\u001b[0m 36ms/step\n",
      "[0 0 0 0 0 0 1 0 0 0] [0 0 0 0 0 0 0 0 0 0]\n",
      "Test Loss: 0.09953849762678146\n",
      "Test Accuracy:  0.9\n",
      "Pairs Created\n",
      "Train and Test Pairs Created\n"
     ]
    },
    {
     "name": "stderr",
     "output_type": "stream",
     "text": [
      "WARNING:absl:You are saving your model as an HDF5 file via `model.save()` or `keras.saving.save_model(model)`. This file format is considered legacy. We recommend using instead the native Keras format, e.g. `model.save('my_model.keras')` or `keras.saving.save_model(model, 'my_model.keras')`. \n"
     ]
    },
    {
     "name": "stdout",
     "output_type": "stream",
     "text": [
      "Model Trained\n",
      "Model Saved\n",
      "\u001b[1m1/1\u001b[0m \u001b[32m━━━━━━━━━━━━━━━━━━━━\u001b[0m\u001b[37m\u001b[0m \u001b[1m0s\u001b[0m 37ms/step\n",
      "[0 0 0 0 1 0 1 1 0 0] [0 0 0 0 0 0 0 0 0 0]\n",
      "Test Loss: 0.2803460359573364\n",
      "Test Accuracy:  0.7\n",
      "Pairs Created\n",
      "Train and Test Pairs Created\n"
     ]
    },
    {
     "name": "stderr",
     "output_type": "stream",
     "text": [
      "WARNING:absl:You are saving your model as an HDF5 file via `model.save()` or `keras.saving.save_model(model)`. This file format is considered legacy. We recommend using instead the native Keras format, e.g. `model.save('my_model.keras')` or `keras.saving.save_model(model, 'my_model.keras')`. \n"
     ]
    },
    {
     "name": "stdout",
     "output_type": "stream",
     "text": [
      "Model Trained\n",
      "Model Saved\n",
      "\u001b[1m1/1\u001b[0m \u001b[32m━━━━━━━━━━━━━━━━━━━━\u001b[0m\u001b[37m\u001b[0m \u001b[1m0s\u001b[0m 36ms/step\n",
      "[0 0 0 0 0 0 0 0 0 0] [0 0 0 0 0 0 0 0 0 0]\n",
      "Test Loss: 3.868508429150097e-06\n",
      "Test Accuracy:  1.0\n",
      "Pairs Created\n",
      "Train and Test Pairs Created\n"
     ]
    },
    {
     "name": "stderr",
     "output_type": "stream",
     "text": [
      "WARNING:absl:You are saving your model as an HDF5 file via `model.save()` or `keras.saving.save_model(model)`. This file format is considered legacy. We recommend using instead the native Keras format, e.g. `model.save('my_model.keras')` or `keras.saving.save_model(model, 'my_model.keras')`. \n"
     ]
    },
    {
     "name": "stdout",
     "output_type": "stream",
     "text": [
      "Model Trained\n",
      "Model Saved\n",
      "\u001b[1m1/1\u001b[0m \u001b[32m━━━━━━━━━━━━━━━━━━━━\u001b[0m\u001b[37m\u001b[0m \u001b[1m0s\u001b[0m 47ms/step\n",
      "[0 0 0 0 0 0 1 0 0 1] [0 0 0 0 0 0 0 0 0 0]\n",
      "Test Loss: 0.18049541115760803\n",
      "Test Accuracy:  0.8\n",
      "Pairs Created\n",
      "Train and Test Pairs Created\n"
     ]
    },
    {
     "name": "stderr",
     "output_type": "stream",
     "text": [
      "WARNING:absl:You are saving your model as an HDF5 file via `model.save()` or `keras.saving.save_model(model)`. This file format is considered legacy. We recommend using instead the native Keras format, e.g. `model.save('my_model.keras')` or `keras.saving.save_model(model, 'my_model.keras')`. \n"
     ]
    },
    {
     "name": "stdout",
     "output_type": "stream",
     "text": [
      "Model Trained\n",
      "Model Saved\n",
      "\u001b[1m1/1\u001b[0m \u001b[32m━━━━━━━━━━━━━━━━━━━━\u001b[0m\u001b[37m\u001b[0m \u001b[1m0s\u001b[0m 34ms/step\n",
      "[1 0 0 1 1 0 1 0 1 0] [1 0 0 1 1 0 1 0 1 0]\n",
      "Test Loss: 0.40278708934783936\n",
      "Test Accuracy:  1.0\n",
      "Features Loaded\n",
      "Features Split\n",
      "Pairs Created\n",
      "Train and Test Pairs Created\n"
     ]
    },
    {
     "name": "stderr",
     "output_type": "stream",
     "text": [
      "WARNING:absl:You are saving your model as an HDF5 file via `model.save()` or `keras.saving.save_model(model)`. This file format is considered legacy. We recommend using instead the native Keras format, e.g. `model.save('my_model.keras')` or `keras.saving.save_model(model, 'my_model.keras')`. \n"
     ]
    },
    {
     "name": "stdout",
     "output_type": "stream",
     "text": [
      "Model Trained\n",
      "Model Saved\n",
      "\u001b[1m1/1\u001b[0m \u001b[32m━━━━━━━━━━━━━━━━━━━━\u001b[0m\u001b[37m\u001b[0m \u001b[1m0s\u001b[0m 35ms/step\n",
      "[0 0 0 0 0 0 0 0 0 0] [0 0 0 0 0 0 0 0 0 0]\n",
      "Test Loss: 1.5792662111380196e-07\n",
      "Test Accuracy:  1.0\n",
      "Pairs Created\n",
      "Train and Test Pairs Created\n"
     ]
    },
    {
     "name": "stderr",
     "output_type": "stream",
     "text": [
      "WARNING:absl:You are saving your model as an HDF5 file via `model.save()` or `keras.saving.save_model(model)`. This file format is considered legacy. We recommend using instead the native Keras format, e.g. `model.save('my_model.keras')` or `keras.saving.save_model(model, 'my_model.keras')`. \n"
     ]
    },
    {
     "name": "stdout",
     "output_type": "stream",
     "text": [
      "Model Trained\n",
      "Model Saved\n",
      "\u001b[1m1/1\u001b[0m \u001b[32m━━━━━━━━━━━━━━━━━━━━\u001b[0m\u001b[37m\u001b[0m \u001b[1m0s\u001b[0m 36ms/step\n",
      "[1 0 1 0 0 0 0 1 0 1] [0 0 0 0 0 0 0 1 0 0]\n",
      "Test Loss: 0.36759939789772034\n",
      "Test Accuracy:  0.7\n",
      "Pairs Created\n",
      "Train and Test Pairs Created\n"
     ]
    },
    {
     "name": "stderr",
     "output_type": "stream",
     "text": [
      "WARNING:absl:You are saving your model as an HDF5 file via `model.save()` or `keras.saving.save_model(model)`. This file format is considered legacy. We recommend using instead the native Keras format, e.g. `model.save('my_model.keras')` or `keras.saving.save_model(model, 'my_model.keras')`. \n"
     ]
    },
    {
     "name": "stdout",
     "output_type": "stream",
     "text": [
      "Model Trained\n",
      "Model Saved\n",
      "\u001b[1m1/1\u001b[0m \u001b[32m━━━━━━━━━━━━━━━━━━━━\u001b[0m\u001b[37m\u001b[0m \u001b[1m0s\u001b[0m 36ms/step\n",
      "[1 0 0 0 0 1 0 1 1 0] [1 0 0 0 0 0 0 0 0 0]\n",
      "Test Loss: 0.3606414794921875\n",
      "Test Accuracy:  0.7\n",
      "Pairs Created\n",
      "Train and Test Pairs Created\n"
     ]
    },
    {
     "name": "stderr",
     "output_type": "stream",
     "text": [
      "WARNING:absl:You are saving your model as an HDF5 file via `model.save()` or `keras.saving.save_model(model)`. This file format is considered legacy. We recommend using instead the native Keras format, e.g. `model.save('my_model.keras')` or `keras.saving.save_model(model, 'my_model.keras')`. \n"
     ]
    },
    {
     "name": "stdout",
     "output_type": "stream",
     "text": [
      "Model Trained\n",
      "Model Saved\n",
      "\u001b[1m1/1\u001b[0m \u001b[32m━━━━━━━━━━━━━━━━━━━━\u001b[0m\u001b[37m\u001b[0m \u001b[1m0s\u001b[0m 35ms/step\n",
      "[0 0 0 0 1 1 0 0 0 0] [0 0 0 0 0 0 0 1 0 0]\n",
      "Test Loss: 0.1872432380914688\n",
      "Test Accuracy:  0.7\n",
      "Pairs Created\n",
      "Train and Test Pairs Created\n"
     ]
    },
    {
     "name": "stderr",
     "output_type": "stream",
     "text": [
      "WARNING:absl:You are saving your model as an HDF5 file via `model.save()` or `keras.saving.save_model(model)`. This file format is considered legacy. We recommend using instead the native Keras format, e.g. `model.save('my_model.keras')` or `keras.saving.save_model(model, 'my_model.keras')`. \n"
     ]
    },
    {
     "name": "stdout",
     "output_type": "stream",
     "text": [
      "Model Trained\n",
      "Model Saved\n",
      "\u001b[1m1/1\u001b[0m \u001b[32m━━━━━━━━━━━━━━━━━━━━\u001b[0m\u001b[37m\u001b[0m \u001b[1m0s\u001b[0m 36ms/step\n",
      "[0 0 1 1 1 1 1 0 0 1] [0 0 0 0 0 0 1 0 0 0]\n",
      "Test Loss: 0.5334932804107666\n",
      "Test Accuracy:  0.5\n",
      "Pairs Created\n",
      "Train and Test Pairs Created\n"
     ]
    },
    {
     "name": "stderr",
     "output_type": "stream",
     "text": [
      "WARNING:absl:You are saving your model as an HDF5 file via `model.save()` or `keras.saving.save_model(model)`. This file format is considered legacy. We recommend using instead the native Keras format, e.g. `model.save('my_model.keras')` or `keras.saving.save_model(model, 'my_model.keras')`. \n"
     ]
    },
    {
     "name": "stdout",
     "output_type": "stream",
     "text": [
      "Model Trained\n",
      "Model Saved\n",
      "\u001b[1m1/1\u001b[0m \u001b[32m━━━━━━━━━━━━━━━━━━━━\u001b[0m\u001b[37m\u001b[0m \u001b[1m0s\u001b[0m 35ms/step\n",
      "[0 0 0 0 0 0 1 1 0 1] [0 0 0 0 0 0 0 0 0 0]\n",
      "Test Loss: 0.2781900465488434\n",
      "Test Accuracy:  0.7\n",
      "Pairs Created\n",
      "Train and Test Pairs Created\n"
     ]
    },
    {
     "name": "stderr",
     "output_type": "stream",
     "text": [
      "WARNING:absl:You are saving your model as an HDF5 file via `model.save()` or `keras.saving.save_model(model)`. This file format is considered legacy. We recommend using instead the native Keras format, e.g. `model.save('my_model.keras')` or `keras.saving.save_model(model, 'my_model.keras')`. \n"
     ]
    },
    {
     "name": "stdout",
     "output_type": "stream",
     "text": [
      "Model Trained\n",
      "Model Saved\n",
      "\u001b[1m1/1\u001b[0m \u001b[32m━━━━━━━━━━━━━━━━━━━━\u001b[0m\u001b[37m\u001b[0m \u001b[1m0s\u001b[0m 35ms/step\n",
      "[0 0 1 0 1 0 1 1 1 0] [1 1 1 1 1 1 1 1 1 1]\n",
      "Test Loss: 0.30320221185684204\n",
      "Test Accuracy:  0.5\n",
      "Pairs Created\n",
      "Train and Test Pairs Created\n"
     ]
    },
    {
     "name": "stderr",
     "output_type": "stream",
     "text": [
      "WARNING:absl:You are saving your model as an HDF5 file via `model.save()` or `keras.saving.save_model(model)`. This file format is considered legacy. We recommend using instead the native Keras format, e.g. `model.save('my_model.keras')` or `keras.saving.save_model(model, 'my_model.keras')`. \n"
     ]
    },
    {
     "name": "stdout",
     "output_type": "stream",
     "text": [
      "Model Trained\n",
      "Model Saved\n",
      "\u001b[1m1/1\u001b[0m \u001b[32m━━━━━━━━━━━━━━━━━━━━\u001b[0m\u001b[37m\u001b[0m \u001b[1m0s\u001b[0m 33ms/step\n",
      "[1 0 1 0 0 0 1 0 0 1] [0 0 0 0 0 0 0 0 0 0]\n",
      "Test Loss: 0.380710244178772\n",
      "Test Accuracy:  0.6\n",
      "Pairs Created\n",
      "Train and Test Pairs Created\n"
     ]
    },
    {
     "name": "stderr",
     "output_type": "stream",
     "text": [
      "WARNING:absl:You are saving your model as an HDF5 file via `model.save()` or `keras.saving.save_model(model)`. This file format is considered legacy. We recommend using instead the native Keras format, e.g. `model.save('my_model.keras')` or `keras.saving.save_model(model, 'my_model.keras')`. \n"
     ]
    },
    {
     "name": "stdout",
     "output_type": "stream",
     "text": [
      "Model Trained\n",
      "Model Saved\n",
      "\u001b[1m1/1\u001b[0m \u001b[32m━━━━━━━━━━━━━━━━━━━━\u001b[0m\u001b[37m\u001b[0m \u001b[1m0s\u001b[0m 34ms/step\n",
      "[1 0 0 0 1 0 0 1 0 0] [0 0 0 0 0 0 0 0 0 0]\n",
      "Test Loss: 0.28462186455726624\n",
      "Test Accuracy:  0.7\n",
      "Pairs Created\n",
      "Train and Test Pairs Created\n"
     ]
    },
    {
     "name": "stderr",
     "output_type": "stream",
     "text": [
      "WARNING:absl:You are saving your model as an HDF5 file via `model.save()` or `keras.saving.save_model(model)`. This file format is considered legacy. We recommend using instead the native Keras format, e.g. `model.save('my_model.keras')` or `keras.saving.save_model(model, 'my_model.keras')`. \n"
     ]
    },
    {
     "name": "stdout",
     "output_type": "stream",
     "text": [
      "Model Trained\n",
      "Model Saved\n",
      "\u001b[1m1/1\u001b[0m \u001b[32m━━━━━━━━━━━━━━━━━━━━\u001b[0m\u001b[37m\u001b[0m \u001b[1m0s\u001b[0m 32ms/step\n",
      "[0 0 0 0 0 0 0 0 0 0] [0 0 0 0 0 0 0 0 0 0]\n",
      "Test Loss: 2.3348918603005586e-06\n",
      "Test Accuracy:  1.0\n"
     ]
    }
   ],
   "source": [
    "# 7. Run Training\n",
    "model = train_siamese_network()"
   ]
  },
  {
   "cell_type": "code",
   "execution_count": null,
   "metadata": {},
   "outputs": [],
   "source": []
  }
 ],
 "metadata": {
  "kernelspec": {
   "display_name": "base",
   "language": "python",
   "name": "python3"
  },
  "language_info": {
   "codemirror_mode": {
    "name": "ipython",
    "version": 3
   },
   "file_extension": ".py",
   "mimetype": "text/x-python",
   "name": "python",
   "nbconvert_exporter": "python",
   "pygments_lexer": "ipython3",
   "version": "3.12.4"
  }
 },
 "nbformat": 4,
 "nbformat_minor": 2
}
